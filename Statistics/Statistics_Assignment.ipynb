{
  "nbformat": 4,
  "nbformat_minor": 0,
  "metadata": {
    "colab": {
      "name": "Statistics_Assignment.ipynb",
      "provenance": [],
      "collapsed_sections": []
    },
    "kernelspec": {
      "name": "python3",
      "display_name": "Python 3"
    },
    "language_info": {
      "name": "python"
    }
  },
  "cells": [
    {
      "cell_type": "code",
      "execution_count": 20,
      "metadata": {
        "colab": {
          "base_uri": "https://localhost:8080/"
        },
        "id": "urJRV2WWuNQd",
        "outputId": "baef1240-f301-41be-d269-deaf67bd8604"
      },
      "outputs": [
        {
          "output_type": "stream",
          "name": "stdout",
          "text": [
            "522\n"
          ]
        },
        {
          "output_type": "execute_result",
          "data": {
            "text/plain": [
              "0.03096720900020955"
            ]
          },
          "metadata": {},
          "execution_count": 20
        }
      ],
      "source": [
        "import pandas as pd\n",
        "import numpy as np\n",
        "import timeit\n",
        "df_train = pd.read_csv('HouseData.csv')\n",
        "corrmat = df_train.corr().abs()\n",
        "import pandas as pd\n",
        "import numpy as np\n",
        "df_train = pd.read_csv('HouseData.csv')\n",
        "corrmat = df_train.corr().abs()\n",
        "\n",
        "#Getting Pairs which are uncorrelated i.e corre_coeff < 0.2\n",
        "def uncorr_func(DataFrame : corrmat):\n",
        "    l = set()\n",
        "    #Iterating through each row which is a tuple of index and columns\n",
        "    for row in corrmat.itertuples():\n",
        "          position = 0\n",
        "          #Iterating through each row which is a tuple of index and columns\n",
        "          for corr in corrmat.loc[row.Index].values:\n",
        "              if corr < 0.2 and (row.Index, corrmat.columns[position]) not in l:\n",
        "                  l.add((corrmat.columns[position], row.Index))\n",
        "              position +=1\n",
        "\n",
        "\n",
        "    return l\n",
        "\n",
        "l = uncorr_func(corrmat)\n",
        "timeit.timeit()"
      ]
    }
  ]
}