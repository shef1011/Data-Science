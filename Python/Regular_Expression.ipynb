{
  "nbformat": 4,
  "nbformat_minor": 0,
  "metadata": {
    "colab": {
      "name": "Regular_Expression.ipynb",
      "provenance": [],
      "collapsed_sections": []
    },
    "kernelspec": {
      "name": "python3",
      "display_name": "Python 3"
    },
    "language_info": {
      "name": "python"
    }
  },
  "cells": [
    {
      "cell_type": "code",
      "execution_count": 3,
      "metadata": {
        "colab": {
          "base_uri": "https://localhost:8080/"
        },
        "id": "r1_9NYTiKMoj",
        "outputId": "8934e4e7-5417-4f89-982c-de1e10c2dd5e"
      },
      "outputs": [
        {
          "output_type": "execute_result",
          "data": {
            "text/plain": [
              "['cat']"
            ]
          },
          "metadata": {},
          "execution_count": 3
        }
      ],
      "source": [
        "#Write the regular expression and use proper method which gives output as:- 'cat' in str.\n",
        "import re\n",
        "str = 'cat mat bat rat'\n",
        "pattern=r'\\bcat'\n",
        "re.findall(pattern,str)"
      ]
    },
    {
      "cell_type": "code",
      "source": [
        "#Write the regular expression and use proper method which gives output as:- 'rat' in str.\n",
        "import re\n",
        "str = 'cat mat bat rat'\n",
        "pattern=r'\\brat'\n",
        "re.findall(pattern,str)"
      ],
      "metadata": {
        "colab": {
          "base_uri": "https://localhost:8080/"
        },
        "id": "KJGJWC9JKXN2",
        "outputId": "552f990e-0070-4f66-a49e-586c3fec8ca0"
      },
      "execution_count": 4,
      "outputs": [
        {
          "output_type": "execute_result",
          "data": {
            "text/plain": [
              "['rat']"
            ]
          },
          "metadata": {},
          "execution_count": 4
        }
      ]
    },
    {
      "cell_type": "code",
      "source": [
        "#Write the regular expression and use proper method which gives output as:- ['mat', 'man'] in str.\n",
        "import re\n",
        "str = 'cat mat bat rat man'\n",
        "pattern=r'\\bm[a-z]+'\n",
        "re.findall(pattern,str)"
      ],
      "metadata": {
        "colab": {
          "base_uri": "https://localhost:8080/"
        },
        "id": "_q31y__dKZeF",
        "outputId": "dca9adc8-3d5d-41a9-cf2e-a180a98cf7bb"
      },
      "execution_count": null,
      "outputs": [
        {
          "output_type": "execute_result",
          "data": {
            "text/plain": [
              "['mat', 'man']"
            ]
          },
          "metadata": {},
          "execution_count": 102
        }
      ]
    },
    {
      "cell_type": "code",
      "source": [
        "#Write the regular expression and use proper method which gives output as:- \n",
        "#['Python', 's', 'Programming', 'is', 'very', 'easy', 'to', 'learn'] in str.\n",
        "import re\n",
        "str = \"Python's Programming: is very easy to learn\"\n",
        "pattern=r\"[^\\W]+\"\n",
        "re.findall(pattern,str)\n"
      ],
      "metadata": {
        "colab": {
          "base_uri": "https://localhost:8080/"
        },
        "id": "NtC0dqvSKbw2",
        "outputId": "fa32c4ab-d97e-491e-dab6-89c08d38d2c7"
      },
      "execution_count": null,
      "outputs": [
        {
          "output_type": "execute_result",
          "data": {
            "text/plain": [
              "['Python', 's', 'Programming', 'is', 'very', 'easy', 'to', 'learn']"
            ]
          },
          "metadata": {},
          "execution_count": 34
        }
      ]
    },
    {
      "cell_type": "code",
      "source": [
        "#Write the regular expression and use proper method which gives output as:- Python Programming: is very easy to learn in str.\n",
        "import re\n",
        "str = \"Python's Programming: is very easy to learn\"\n",
        "re.sub(\"'s\",'',str)"
      ],
      "metadata": {
        "colab": {
          "base_uri": "https://localhost:8080/",
          "height": 38
        },
        "id": "AjbVgsp6KbPw",
        "outputId": "394955e3-7bdf-4d87-9438-6c72156c7c50"
      },
      "execution_count": null,
      "outputs": [
        {
          "output_type": "execute_result",
          "data": {
            "application/vnd.google.colaboratory.intrinsic+json": {
              "type": "string"
            },
            "text/plain": [
              "'Python Programming: is very easy to learn'"
            ]
          },
          "metadata": {},
          "execution_count": 45
        }
      ]
    },
    {
      "cell_type": "code",
      "source": [
        "#Write the regular expression and use proper method which Retrieves all words starting with p.\n",
        "#Output:- ['peter', 'per', 'picked', 'peck', 'pickled', 'peppers']\n",
        "import re\n",
        "str = \"peter giper picked a peck of pickled peppers\"\n",
        "pattern=r'p[a-z]+'\n",
        "re.findall(pattern,str)"
      ],
      "metadata": {
        "colab": {
          "base_uri": "https://localhost:8080/"
        },
        "id": "UR50zS7FKhbn",
        "outputId": "a7534629-d5f5-4f91-a095-c47bbafabada"
      },
      "execution_count": null,
      "outputs": [
        {
          "output_type": "execute_result",
          "data": {
            "text/plain": [
              "['peter', 'per', 'picked', 'peck', 'pickled', 'peppers']"
            ]
          },
          "metadata": {},
          "execution_count": 105
        }
      ]
    },
    {
      "cell_type": "code",
      "source": [
        "#Write the regular expression and use proper method which Retrieves all words starting with p except 'per' which is not a separate word.\n",
        "#Output:- ['peter', 'picked', 'peck', 'pickled', 'peppers']\n",
        "import re\n",
        "str = \"peter giper picked a peck of pickled peppers\"\n",
        "pattern = r'\\bp\\w+'\n",
        "re.findall(pattern,str)"
      ],
      "metadata": {
        "colab": {
          "base_uri": "https://localhost:8080/"
        },
        "id": "guao6woIKjhT",
        "outputId": "338c6800-c97b-42a1-dcc1-39e041de84b2"
      },
      "execution_count": null,
      "outputs": [
        {
          "output_type": "execute_result",
          "data": {
            "text/plain": [
              "['peter', 'picked', 'peck', 'pickled', 'peppers']"
            ]
          },
          "metadata": {},
          "execution_count": 96
        }
      ]
    },
    {
      "cell_type": "code",
      "source": [
        "#Write the regular expression and use proper method which Retrieves all words starting with a digit.\n",
        "#Output:- ['8th', '11th']\n",
        "import re\n",
        "str = 'The election in delhi will be held on 8th and result for the same will be declared on 11th'\n",
        "pattern = r'\\d+[a-z]+'\n",
        "re.findall(pattern,str)"
      ],
      "metadata": {
        "colab": {
          "base_uri": "https://localhost:8080/"
        },
        "id": "h85j7BHJKkBR",
        "outputId": "d5a8e000-b288-4974-e0bb-69cf58ab6ba8"
      },
      "execution_count": null,
      "outputs": [
        {
          "output_type": "execute_result",
          "data": {
            "text/plain": [
              "['8th', '11th']"
            ]
          },
          "metadata": {},
          "execution_count": 67
        }
      ]
    },
    {
      "cell_type": "code",
      "source": [
        "#Write the regular expression and use proper method which Retrieves all words having 5 characters.\n",
        "#Output:- ['peter', 'giper']\n",
        "import re\n",
        "str = \"peter giper picked a peck of pickled peppers\"\n",
        "pattern = r'\\b[a-z]{5}\\b'\n",
        "re.findall(pattern,str)"
      ],
      "metadata": {
        "colab": {
          "base_uri": "https://localhost:8080/"
        },
        "id": "OzeFSqs8KkIs",
        "outputId": "e780c0fa-455a-4f89-f3ad-d7730d60b1e0"
      },
      "execution_count": null,
      "outputs": [
        {
          "output_type": "execute_result",
          "data": {
            "text/plain": [
              "['peter', 'giper']"
            ]
          },
          "metadata": {},
          "execution_count": 72
        }
      ]
    },
    {
      "cell_type": "code",
      "source": [
        "#Write the regular expression and use proper method which Retrieves all words having at least 4 characters.\n",
        "#Output:- ['Retrieving',  'words', 'having', 'least', 'characters']\n",
        "import re\n",
        "str = \"Retrieving all words having at least 4 characters\"\n",
        "pattern=r'[A-Za-z]{4,}'\n",
        "re.findall(pattern,str)"
      ],
      "metadata": {
        "colab": {
          "base_uri": "https://localhost:8080/"
        },
        "id": "XSUV2Wq8KuGq",
        "outputId": "453ba6d7-65f5-4f8e-a065-39897581bd9b"
      },
      "execution_count": null,
      "outputs": [
        {
          "output_type": "execute_result",
          "data": {
            "text/plain": [
              "['Retrieving', 'words', 'having', 'least', 'characters']"
            ]
          },
          "metadata": {},
          "execution_count": 73
        }
      ]
    },
    {
      "cell_type": "code",
      "source": [
        "#Write the regular expression and use proper method which Retrieves all words having at characters between 3 to 5 words.\n",
        "#Output:- ['all', 'words', 'least']\n",
        "import re\n",
        "str = \"Retrieving all words having at least 4 characters\"\n",
        "pattern=r'\\b[A-Za-z]{3,5}\\b'\n",
        "re.findall(pattern,str)"
      ],
      "metadata": {
        "colab": {
          "base_uri": "https://localhost:8080/"
        },
        "id": "uc_uKdxFKuMC",
        "outputId": "f406d909-9c91-4303-8873-96c05b4f1c09"
      },
      "execution_count": null,
      "outputs": [
        {
          "output_type": "execute_result",
          "data": {
            "text/plain": [
              "['all', 'words', 'least']"
            ]
          },
          "metadata": {},
          "execution_count": 76
        }
      ]
    },
    {
      "cell_type": "code",
      "source": [
        "#Write the regular expression and use proper method which Retrieves only digits from the string.\n",
        "#Output:- ['8', '11']\n",
        "import re\n",
        "str = 'The election in delhi will be held on 8 and result for the same will be declared on 11'\n",
        "pattern=r'\\d+'\n",
        "re.findall(pattern,str)"
      ],
      "metadata": {
        "colab": {
          "base_uri": "https://localhost:8080/"
        },
        "id": "nPWDcaoeKuRW",
        "outputId": "fb3832d7-dc6c-4b12-becd-8ca03e889ff5"
      },
      "execution_count": null,
      "outputs": [
        {
          "output_type": "execute_result",
          "data": {
            "text/plain": [
              "['8', '11']"
            ]
          },
          "metadata": {},
          "execution_count": 77
        }
      ]
    },
    {
      "cell_type": "code",
      "source": [
        "#Write the regular expression and use proper method which Retrieves last word if starts with c from the given string.\n",
        "#Output:- ['characters']\n",
        "import re\n",
        "str = \"Retrieving all words having at least 4 characters\"\n",
        "pattern=r'c[a-z]+$'\n",
        "re.findall(pattern,str)"
      ],
      "metadata": {
        "colab": {
          "base_uri": "https://localhost:8080/"
        },
        "id": "GhiwF_IcK2Co",
        "outputId": "1d668872-6c11-4646-8d67-e3da5106cb67"
      },
      "execution_count": null,
      "outputs": [
        {
          "output_type": "execute_result",
          "data": {
            "text/plain": [
              "['characters']"
            ]
          },
          "metadata": {},
          "execution_count": 78
        }
      ]
    },
    {
      "cell_type": "code",
      "source": [
        "#Write the regular expression and use proper method which Retrieves a phone number from the given string.\n",
        "#Output:- 1234567890\n",
        "import re\n",
        "str = \"Learnbay : 1234567890\"\n",
        "pattern=r'\\d+'\n",
        "re.findall(pattern,str)"
      ],
      "metadata": {
        "colab": {
          "base_uri": "https://localhost:8080/"
        },
        "id": "wb9O6NvJK4Ja",
        "outputId": "e86c8402-4427-4967-f600-3503a7b25352"
      },
      "execution_count": null,
      "outputs": [
        {
          "output_type": "execute_result",
          "data": {
            "text/plain": [
              "['1234567890']"
            ]
          },
          "metadata": {},
          "execution_count": 82
        }
      ]
    },
    {
      "cell_type": "code",
      "source": [
        "##Write the regular expression and use proper method which Etracts name from the string but not number.\n",
        "#Output:- Learnbay : \n",
        "import re\n",
        "str = \"Learnbay : 1234567890\"\n",
        "pattern = r'\\D+'\n",
        "re.findall(pattern,str)"
      ],
      "metadata": {
        "colab": {
          "base_uri": "https://localhost:8080/"
        },
        "id": "IxTVm-s1K7-1",
        "outputId": "a202543c-2640-4e75-c607-52decf1f16ef"
      },
      "execution_count": null,
      "outputs": [
        {
          "output_type": "execute_result",
          "data": {
            "text/plain": [
              "['Learnbay : ']"
            ]
          },
          "metadata": {},
          "execution_count": 90
        }
      ]
    },
    {
      "cell_type": "code",
      "source": [
        "##Write the regular expression and use proper method which Retrieves name starting with 'an' or 'ak'.\n",
        "#Output:- ['anil', 'akhil', 'anant', 'ankur']\n",
        "import re\n",
        "str = 'anil akhil anant abhi arun arati arundhati abhijit ankur'\n",
        "pattern = r'\\ban\\w+|\\bak\\w+'\n",
        "re.findall(pattern,str)"
      ],
      "metadata": {
        "colab": {
          "base_uri": "https://localhost:8080/"
        },
        "id": "WqjU-WBeK-tY",
        "outputId": "3243bba3-50fe-4065-c4ea-1e534e318719"
      },
      "execution_count": null,
      "outputs": [
        {
          "output_type": "execute_result",
          "data": {
            "text/plain": [
              "['anil', 'akhil', 'anant', 'ankur']"
            ]
          },
          "metadata": {},
          "execution_count": 92
        }
      ]
    }
  ]
}