{
  "nbformat": 4,
  "nbformat_minor": 0,
  "metadata": {
    "colab": {
      "name": "String_Assignment.ipynb",
      "provenance": [],
      "collapsed_sections": []
    },
    "kernelspec": {
      "name": "python3",
      "display_name": "Python 3"
    },
    "language_info": {
      "name": "python"
    }
  },
  "cells": [
    {
      "cell_type": "code",
      "execution_count": null,
      "metadata": {
        "colab": {
          "base_uri": "https://localhost:8080/"
        },
        "id": "S1lRtsO_bhNo",
        "outputId": "a72f1126-31b3-4c22-9929-a35d2033c70e"
      },
      "outputs": [
        {
          "output_type": "stream",
          "name": "stdout",
          "text": [
            "140583530489536\n"
          ]
        }
      ],
      "source": [
        "#Declare a string and store it in a variable. \n",
        "string_1 = \"This is my first assignment\"\n",
        "\n",
        "\n",
        "#Check the type and print the id of the same.\n",
        "print(type(string_1))\n",
        "print(id(string_1))"
      ]
    },
    {
      "cell_type": "markdown",
      "source": [
        "#Which are valid/invalid strings\n",
        "1. 'This is Python class'\n",
        " \n",
        "    **Valid**\n",
        "\n",
        "2. \"This is Python class\"\n",
        "\n",
        "    **Valid**\n",
        "\n",
        "3. '''This is Python class'''\n",
        "\n",
        "    **Valid**\n",
        "\n",
        "4. \"\"\"This is Python class\"\"\"\n",
        "\n",
        "    **Valid**\n",
        "\n",
        "5. 'This is Python's class'\n",
        "\n",
        "    **Invalid**\n",
        "\n",
        "6. \"Learnbay provides \"Java\", \"Python\" classes\"\n",
        "\n",
        "    **Invalid**\n",
        "\n",
        "7. \"Learnbay provides 'Java', 'Python' classes\"\n",
        "\n",
        "    **Valid**\n",
        "\n",
        "8. \"This is Python's class\"\n",
        "\n",
        "    **Valid**\n",
        "\n",
        "9. \"\"\"Learnbay provides \"Java\", \"Python\" classes\"\"\"\n",
        "\n",
        "    **Valid**\n",
        "\n",
        "10. '''Learnbay provides \"Java\", \"Python\" classes'''\n",
        "\n",
        "    **Valid**\n",
        "\n",
        "11. '''Learnbay provides\n",
        "\"Java\", \"Python\" \n",
        "classes'''\n",
        "\n",
        "    **Valid**\n",
        "\n",
        "12. 'This is\n",
        "Python \n",
        "class'\n",
        "\n",
        "    **Invalid**"
      ],
      "metadata": {
        "id": "scuAR5IVpOeP"
      }
    },
    {
      "cell_type": "code",
      "source": [
        "#Write the code to get the output mentioned below print statement\n",
        "my_str = \"Although that way may not be obvious at first unless you're Dutch.\"\n",
        "my_str1= \"Although that way may not be obvious at first unless you're Dutch.\"\n",
        "length = len(my_str)\n",
        "print(f\"The length of my_str is {length}\")\n",
        "#output:- The length of my_str is 66\n",
        "print(f\"id of my_str and my_str1 is same? - {id(my_str) == id(my_str1)}\")\n",
        "#output:- id of my_str and my_str1 is same? - True\n",
        "print(f\"Type of my_str is {type(my_str)}\")\n",
        "#output:- Type of my_str is: str"
      ],
      "metadata": {
        "colab": {
          "base_uri": "https://localhost:8080/"
        },
        "id": "yGtfZpiLdg80",
        "outputId": "ab2656ff-8924-4190-e916-dc85bea68d5b"
      },
      "execution_count": null,
      "outputs": [
        {
          "output_type": "stream",
          "name": "stdout",
          "text": [
            "The length of my_str is 66\n",
            "id of my_str and my_str1 is same? - False\n",
            "Type of my_str is <class 'str'>\n"
          ]
        }
      ]
    },
    {
      "cell_type": "code",
      "source": [
        "#Indexing\n",
        "my_str = \"Although 8 that way may not be obvious at first unless you're Dutch\"\n",
        "#Write the code to get the output,instructions are mentioned below print statement. use indexing\n",
        "\n",
        "print(f\"The first character in my_str is: {my_str[0]}\")\n",
        "#output:- The first character in my_str is: A\n",
        "#Note:- Use positive indexing\n",
        "\n",
        "print(f\"The last character in my_str is: {my_str[len(my_str)-1]}\")\n",
        "#output:- The first character in my_str is: h\n",
        "#Note:- Use len() function.\n",
        "\n",
        "print(f\"The character at index 10 in my_str is: {my_str[10]}\")\n",
        "#output:- The character at index 10 in my_str is: ' '\n",
        "#Note:- Use positive indexing\n",
        "\n",
        "print(f\"The last character in my_str is: {my_str[-1]}\")\n",
        "#output:- The last character in my_str is: h\n",
        "#Note:- Use negative indexing.\n",
        "\n",
        "print(f\"The last character in my_str is: {my_str[len(my_str)-1]}\")\n",
        "#output:- The last character in my_str is: h\n",
        "#Note:- Use len() function.\n",
        "\n",
        "print(f\"The character in my_str is: {my_str[9]}\")\n",
        "#output:- The character in my_str is: 8\n",
        "#Note:- Use positive index"
      ],
      "metadata": {
        "colab": {
          "base_uri": "https://localhost:8080/"
        },
        "id": "B-7vS9OVe1w-",
        "outputId": "7ad91087-7073-455c-ee37-d9dbb74a3072"
      },
      "execution_count": null,
      "outputs": [
        {
          "output_type": "stream",
          "name": "stdout",
          "text": [
            "The first character in my_str is: A\n",
            "The last character in my_str is: h\n",
            "The character at index 10 in my_str is:  \n",
            "The last character in my_str is: h\n",
            "The last character in my_str is: h\n",
            "The character in my_str is: 8\n"
          ]
        }
      ]
    },
    {
      "cell_type": "code",
      "source": [
        "#Slicing\n",
        "my_str = \"Although that way may not be obvious at first unless you're Dutch.\"\n",
        "#Write the code to get the output,instructions are mentioned below print statement. use slicing\n",
        "print(f\"You have sliced: {my_str[::]}\")\n",
        "#output:- You have sliced: Although that way may not be obvious at first unless you're Dutch.Without begin, end and step\n",
        "\n",
        "\n",
        "print(f\"You have sliced: {my_str[0:len(my_str)]}\")\n",
        "#output:- You have sliced: Although that way may not be obvious at first unless you're Dutch.with begin as 0 end using len and without step\n",
        "\n",
        "\n",
        "print(f\"You have sliced: {my_str[::1]}\")\n",
        "#output:- You have sliced: Although that way may not be obvious at first unless you're Dutch.without begin and end but using step\n",
        "\n",
        "\n",
        "print(f\"You have sliced: {my_str[0:len(my_str):1]}\")\n",
        "#output:- You have sliced: Although that way may not be obvious at first unless you're Dutch.With begin, end and step\n",
        "\n",
        "\n",
        "print(f\"You have sliced: {my_str[0:len(my_str):-1]}\")\n",
        "#output:- You have sliced:   .with using begin and end using postive values and step as negative values.\n",
        "#Slicing command should print empty string.\n",
        "\n",
        "\n",
        "print(f\"You have sliced: {my_str[::2]}\")\n",
        "#output:- You have sliced: Atog htwymyntb biu tfrtuls o'eDth\n",
        "\n",
        "\n",
        "print(f\"You have sliced: {my_str[::3]}\")\n",
        "#output:- You have sliced: Ahgttam tebo  r lsorDc\n",
        "\n",
        "\n",
        "print(f\"You have sliced: {my_str[::-1]}\")\n",
        "#output:- You have sliced: .hctuD er'uoy sselnu tsrif ta suoivbo eb ton yam yaw taht hguohtlA. Use only step\n",
        "\n",
        "\n",
        "print(f\"You have sliced: {my_str[-1:-len(my_str)-1:-1]}\")\n",
        "#output:- You have sliced: .hctuD er'uoy sselnu tsrif ta suoivbo eb ton yam yaw taht hguohtlA. Use begin end and step.\n",
        "\n",
        "\n",
        "print(f\"You have sliced: {my_str[::-2]}\")\n",
        "#output:- You have sliced: .cu ruysen si asovoe o a a athuhl. use only step\n",
        "\n",
        "\n",
        "print(f\"You have sliced: {my_str[-1:-len(my_str)-1:-2]}\")\n",
        "#output:- You have sliced: .cu ruysen si asovoe o a a athuhl. use begin, end and step.\n",
        "\n",
        "\n",
        "print(f\"You have sliced: {my_str[-50:-56:-1]}\")\n",
        "#output:- You have sliced: yaw ta, Using begin, end and step.\n",
        "\n",
        "print(f\"You have sliced: {my_str[49:56:1]}\")\n",
        "#output:- You have sliced: ess you. Using begin, end and step."
      ],
      "metadata": {
        "colab": {
          "base_uri": "https://localhost:8080/"
        },
        "id": "mtodnf-Yg6d7",
        "outputId": "fee985c3-ffed-496e-e377-eba6e7306aa5"
      },
      "execution_count": null,
      "outputs": [
        {
          "output_type": "stream",
          "name": "stdout",
          "text": [
            "You have sliced: Although that way may not be obvious at first unless you're Dutch.\n",
            "You have sliced: Although that way may not be obvious at first unless you're Dutch.\n",
            "You have sliced: Although that way may not be obvious at first unless you're Dutch.\n",
            "You have sliced: Although that way may not be obvious at first unless you're Dutch.\n",
            "You have sliced: \n",
            "You have sliced: Atog htwymyntb biu tfrtuls o'eDth\n",
            "You have sliced: Ahgttam tebo  r lsorDc\n",
            "You have sliced: .hctuD er'uoy sselnu tsrif ta suoivbo eb ton yam yaw taht hguohtlA\n",
            "You have sliced: .hctuD er'uoy sselnu tsrif ta suoivbo eb ton yam yaw taht hguohtlA\n",
            "You have sliced: .cu ruysen si asovoe o a a athuhl\n",
            "You have sliced: .cu ruysen si asovoe o a a athuhl\n",
            "You have sliced: yaw ta\n",
            "You have sliced: ess you\n"
          ]
        }
      ]
    },
    {
      "cell_type": "markdown",
      "source": [
        "#What will be the output?\n",
        "my_str = \"Although that way may not be obvious at first unless you're Dutch.\"\n",
        "\n",
        "print(my_str[10:17:-1])\n",
        "\n",
        "**Output : - Empty String ' '**\n"
      ],
      "metadata": {
        "id": "B_v-NPhzg-84"
      }
    },
    {
      "cell_type": "code",
      "source": [
        "#Basic operation on string\n",
        "str1 = 'Learnbay'\n",
        "str2 = 'Python'\n",
        "\n",
        "#Write the code to get the output,instructions are mentioned below.\n",
        "str3 = str1 + ' ' + str2\n",
        "print(f'{str3}')\n",
        "#Output is: Learnbay Python\n",
        "\n",
        "str4 = str3 + 1\n",
        "#Error: TypeError: can only concatenate str (not \"int\") to str\n",
        "\n",
        "str4 = str3 + 3.5\n",
        "#Error: TypeError: can only concatenate str (not \"float\") to str\n",
        "\n",
        "\n",
        "\n",
        "#Find below Output\n",
        "print(f'{str1 * 3}')\n",
        "#Output is: LearnbayLearnbayLearnbay\n",
        "\n",
        "str3 = str1 * 3.4\n",
        "#Error: TypeError: can't multiply sequence by non-int of type 'float'\n",
        "\n",
        "str3 = str1 * str2\n",
        "#Error: TypeError: can't multiply sequence by non-int of type 'str'"
      ],
      "metadata": {
        "colab": {
          "base_uri": "https://localhost:8080/",
          "height": 252
        },
        "id": "QT6mhdxZg7Jn",
        "outputId": "e46fe53b-0eed-45ac-9a0c-c5bb0f27d834"
      },
      "execution_count": null,
      "outputs": [
        {
          "output_type": "stream",
          "name": "stdout",
          "text": [
            "Learnbay Python\n",
            "LearnbayLearnbayLearnbay\n"
          ]
        },
        {
          "output_type": "error",
          "ename": "TypeError",
          "evalue": "ignored",
          "traceback": [
            "\u001b[0;31m---------------------------------------------------------------------------\u001b[0m",
            "\u001b[0;31mTypeError\u001b[0m                                 Traceback (most recent call last)",
            "\u001b[0;32m<ipython-input-46-584e1ba29db6>\u001b[0m in \u001b[0;36m<module>\u001b[0;34m()\u001b[0m\n\u001b[1;32m     23\u001b[0m \u001b[0;31m#Error: TypeError: can't multiply sequence by non-int of type 'float'\u001b[0m\u001b[0;34m\u001b[0m\u001b[0;34m\u001b[0m\u001b[0;34m\u001b[0m\u001b[0m\n\u001b[1;32m     24\u001b[0m \u001b[0;34m\u001b[0m\u001b[0m\n\u001b[0;32m---> 25\u001b[0;31m \u001b[0mstr3\u001b[0m \u001b[0;34m=\u001b[0m \u001b[0mstr1\u001b[0m \u001b[0;34m*\u001b[0m \u001b[0mstr2\u001b[0m\u001b[0;34m\u001b[0m\u001b[0;34m\u001b[0m\u001b[0m\n\u001b[0m\u001b[1;32m     26\u001b[0m \u001b[0;31m#Error: TypeError: can't multiply sequence by non-int of type 'str'\u001b[0m\u001b[0;34m\u001b[0m\u001b[0;34m\u001b[0m\u001b[0;34m\u001b[0m\u001b[0m\n",
            "\u001b[0;31mTypeError\u001b[0m: can't multiply sequence by non-int of type 'str'"
          ]
        }
      ]
    },
    {
      "cell_type": "code",
      "source": [
        "#Find below Output\n",
        "str1 = 'Python'\n",
        "str2 = 'Python'\n",
        "str3 = 'Python$'\n",
        "str4 = 'Python$'\n",
        "\n",
        "output = str1 is str2\n",
        "print(output)\n",
        "#print True by using identity operator between str1 and str2\n",
        "\n",
        "output = str1 is str3\n",
        "print(output)\n",
        "#print False by using identity operator between str1 and str3\n",
        "\n",
        "output = str4 is str3\n",
        "print(output)\n",
        "#print False by using identity operator between str4 and str3\n",
        "\n",
        "output = 'P' in str1\n",
        "print(output)\n",
        "#Check if P is available in str1 and print True by using membership operator\n",
        "\n",
        "output = '$' in str3\n",
        "print(output)\n",
        "#Check if $ is available in str3 and print True by using membership operator\n",
        "\n",
        "output = 'N' in str3\n",
        "print(output)\n",
        "#Check if N is available in str3 and print False by using membership operator"
      ],
      "metadata": {
        "colab": {
          "base_uri": "https://localhost:8080/"
        },
        "id": "pHdTqWQLq1SS",
        "outputId": "9c6ec12c-f78b-4d22-8074-17bcdf454085"
      },
      "execution_count": null,
      "outputs": [
        {
          "output_type": "stream",
          "name": "stdout",
          "text": [
            "True\n",
            "False\n",
            "False\n",
            "True\n",
            "True\n",
            "False\n"
          ]
        }
      ]
    },
    {
      "cell_type": "code",
      "source": [
        "#Complete the below code\n",
        "str1 = 'This is Python class'\n",
        "str1[4] = 'Java'\n",
        "print(str1)\n",
        "#write the code to replace 'Python' with 'Java' and you should get below error.\n",
        "#TypeError: 'str' object does not support item assignment."
      ],
      "metadata": {
        "colab": {
          "base_uri": "https://localhost:8080/",
          "height": 234
        },
        "id": "prLYmWXArkjz",
        "outputId": "4f838af5-a651-4ed5-c52a-7d90cc2ba79e"
      },
      "execution_count": null,
      "outputs": [
        {
          "output_type": "error",
          "ename": "TypeError",
          "evalue": "ignored",
          "traceback": [
            "\u001b[0;31m---------------------------------------------------------------------------\u001b[0m",
            "\u001b[0;31mTypeError\u001b[0m                                 Traceback (most recent call last)",
            "\u001b[0;32m<ipython-input-53-25ef51665a34>\u001b[0m in \u001b[0;36m<module>\u001b[0;34m()\u001b[0m\n\u001b[1;32m      1\u001b[0m \u001b[0;31m#Complete the below code\u001b[0m\u001b[0;34m\u001b[0m\u001b[0;34m\u001b[0m\u001b[0;34m\u001b[0m\u001b[0m\n\u001b[1;32m      2\u001b[0m \u001b[0mstr1\u001b[0m \u001b[0;34m=\u001b[0m \u001b[0;34m'This is Python class'\u001b[0m\u001b[0;34m\u001b[0m\u001b[0;34m\u001b[0m\u001b[0m\n\u001b[0;32m----> 3\u001b[0;31m \u001b[0mstr1\u001b[0m\u001b[0;34m[\u001b[0m\u001b[0;36m4\u001b[0m\u001b[0;34m]\u001b[0m \u001b[0;34m=\u001b[0m \u001b[0;34m'Java'\u001b[0m\u001b[0;34m\u001b[0m\u001b[0;34m\u001b[0m\u001b[0m\n\u001b[0m\u001b[1;32m      4\u001b[0m \u001b[0mprint\u001b[0m\u001b[0;34m(\u001b[0m\u001b[0mstr1\u001b[0m\u001b[0;34m)\u001b[0m\u001b[0;34m\u001b[0m\u001b[0;34m\u001b[0m\u001b[0m\n\u001b[1;32m      5\u001b[0m \u001b[0;31m#write the code to replace 'Python' with 'Java' and you should get below error.\u001b[0m\u001b[0;34m\u001b[0m\u001b[0;34m\u001b[0m\u001b[0;34m\u001b[0m\u001b[0m\n",
            "\u001b[0;31mTypeError\u001b[0m: 'str' object does not support item assignment"
          ]
        }
      ]
    },
    {
      "cell_type": "code",
      "source": [
        "str1 = 'A'\n",
        "str2 = 'A'\n",
        "#Compare str1 and str2 and print True using comparison operator\n",
        "output = str1 is str2\n",
        "print(output)\n",
        "\n",
        "#Compare str1 and str2 and print True using equality operator\n",
        "output = str1 == str2\n",
        "print(output)\n",
        "\n",
        "#Compare str1 and str2 and print False using equality operator\n",
        "output = str1 != str2\n",
        "print(output)\n",
        "\n",
        "#Compare str1 and str2 and print False using comparison operator\n",
        "output = str1 is not str2\n",
        "print(output)"
      ],
      "metadata": {
        "colab": {
          "base_uri": "https://localhost:8080/"
        },
        "id": "OSNp8Rk7r2DF",
        "outputId": "a6b16341-76f8-449a-c286-eb0298048779"
      },
      "execution_count": null,
      "outputs": [
        {
          "output_type": "stream",
          "name": "stdout",
          "text": [
            "True\n",
            "True\n",
            "False\n",
            "False\n"
          ]
        }
      ]
    },
    {
      "cell_type": "code",
      "source": [
        "str1 = 'A'\n",
        "str2 = 'a'\n",
        "#Compare str1 and str2 and print True using comparison operator\n",
        "\n",
        "output = str1 is not str2\n",
        "print(output)\n",
        "\n",
        "#Compare str1 and str2 and print True using equality operator\n",
        "output = str1 != str2\n",
        "print(output)\n",
        "\n",
        "#Compare str1 and str2 and print False using equality operator\n",
        "output = str1 == str2\n",
        "print(output)\n",
        "\n",
        "#Compare str1 and str2 and print False using comparison operator\n",
        "output = str1 is str2\n",
        "print(output)"
      ],
      "metadata": {
        "colab": {
          "base_uri": "https://localhost:8080/"
        },
        "id": "f9GB1gdHs2RX",
        "outputId": "a3cd4274-a16b-468d-dcf0-f7de7d8f67b9"
      },
      "execution_count": null,
      "outputs": [
        {
          "output_type": "stream",
          "name": "stdout",
          "text": [
            "True\n",
            "True\n",
            "False\n",
            "False\n"
          ]
        }
      ]
    },
    {
      "cell_type": "code",
      "source": [
        "str1 = 'A'\n",
        "str2 = '65'\n",
        "#Compare str1 and str2 using comparison operator and it should give below error.\n",
        "str1 >= int(str2)\n",
        "#Error: TypeError: '>=' not supported between instances of 'str' and 'int'\n",
        "\n",
        "#Compare str1 and str2 and print True using equality operator\n",
        "print(str1 != str2)\n",
        "\n",
        "#Compare str1 and str2 and print False using equality operator\n",
        "print(str1 == str2)"
      ],
      "metadata": {
        "colab": {
          "base_uri": "https://localhost:8080/"
        },
        "id": "6r2qO2tRtQqL",
        "outputId": "c5eca58e-89a7-46fd-b16d-9cb30fbdbca4"
      },
      "execution_count": null,
      "outputs": [
        {
          "output_type": "stream",
          "name": "stdout",
          "text": [
            "True\n",
            "False\n"
          ]
        }
      ]
    },
    {
      "cell_type": "code",
      "source": [
        "str1 = 'Python'\n",
        "str2 = 'Python'\n",
        "#Compare str1 and str2 and print True using comparison operator\n",
        "output = str1 is str2\n",
        "print(output)\n",
        "#Compare str1 and str2 and print True using equality operator\n",
        "output = str1 == str2\n",
        "print(output)\n",
        "\n",
        "#Compare str1 and str2 and print False using equality operator\n",
        "output = str1 != str2\n",
        "print(output)\n",
        "\n",
        "#Compare str1 and str2 and print False using comparison operator\n",
        "output = str1 is not str2\n",
        "print(output)"
      ],
      "metadata": {
        "colab": {
          "base_uri": "https://localhost:8080/"
        },
        "id": "G5YaKFwruIuX",
        "outputId": "5c67a3d3-b8dc-4ed1-efd4-38afd787f01f"
      },
      "execution_count": null,
      "outputs": [
        {
          "output_type": "stream",
          "name": "stdout",
          "text": [
            "True\n",
            "True\n",
            "False\n",
            "False\n"
          ]
        }
      ]
    },
    {
      "cell_type": "code",
      "source": [
        "str1 = 'Python'\n",
        "str2 = 'python'\n",
        "#Compare str1 and str2 and print True using comparison operator\n",
        "output = str1 is not str2\n",
        "print(output)\n",
        "\n",
        "#Compare str1 and str2 and print True using equality operator\n",
        "output = str1 != str2\n",
        "print(output)\n",
        "\n",
        "#Compare str1 and str2 and print False using equality operator\n",
        "output = str1 == str2\n",
        "print(output)\n",
        "\n",
        "#Compare str1 and str2 and print False using comparison operator\n",
        "output = str1 is str2\n",
        "print(output)"
      ],
      "metadata": {
        "colab": {
          "base_uri": "https://localhost:8080/"
        },
        "id": "FWb3d7NQugjt",
        "outputId": "2972e817-ebeb-4d22-d4ab-59f546979c51"
      },
      "execution_count": null,
      "outputs": [
        {
          "output_type": "stream",
          "name": "stdout",
          "text": [
            "True\n",
            "True\n",
            "False\n",
            "False\n"
          ]
        }
      ]
    },
    {
      "cell_type": "code",
      "source": [
        "a = 'Python'\n",
        "b = ''\n",
        "\n",
        "#Apply logical opereators (and, or & not) on above string values and observe the output.\n",
        "print(a and b)\n",
        "print(a or b)\n",
        "print(not a)\n",
        "print(not b)\n",
        "print(b or a)\n",
        "print(not a and not b)\n",
        "print(not a or not b)"
      ],
      "metadata": {
        "colab": {
          "base_uri": "https://localhost:8080/"
        },
        "id": "D3-fn305ugoG",
        "outputId": "a7eb6801-65d4-4859-ba29-fdca3e1075b3"
      },
      "execution_count": null,
      "outputs": [
        {
          "output_type": "stream",
          "name": "stdout",
          "text": [
            "\n",
            "Python\n",
            "False\n",
            "True\n",
            "Python\n",
            "False\n",
            "True\n"
          ]
        }
      ]
    },
    {
      "cell_type": "code",
      "source": [
        "a = ''\n",
        "b = ''\n",
        "\n",
        "#Apply logical opereators (and, or & not) on above string values and observe the output.\n",
        "print(a and b)\n",
        "print(a or b)\n",
        "print(not a and not b)"
      ],
      "metadata": {
        "colab": {
          "base_uri": "https://localhost:8080/"
        },
        "id": "kCBlkcm9uIyA",
        "outputId": "1e7ef8ea-45f8-4ec3-9feb-8e4b63af5b19"
      },
      "execution_count": null,
      "outputs": [
        {
          "output_type": "stream",
          "name": "stdout",
          "text": [
            "\n",
            "\n",
            "True\n"
          ]
        }
      ]
    },
    {
      "cell_type": "code",
      "source": [
        "a = 'Python'\n",
        "b = 'learnbay'\n",
        "\n",
        "#Apply logical opereators (and, or & not) on above string values and observe the output.\n",
        "print(a and b)\n",
        "print(a or b)\n",
        "print(not a)\n",
        "print(not b)\n",
        "print(not a and not b)\n",
        "print(not a or not b)"
      ],
      "metadata": {
        "colab": {
          "base_uri": "https://localhost:8080/"
        },
        "id": "HFy7uaoFvwDO",
        "outputId": "6c940f74-07dc-487e-aa4d-1e3faae5267d"
      },
      "execution_count": null,
      "outputs": [
        {
          "output_type": "stream",
          "name": "stdout",
          "text": [
            "learnbay\n",
            "Python\n",
            "False\n",
            "False\n",
            "False\n",
            "False\n"
          ]
        }
      ]
    },
    {
      "cell_type": "code",
      "source": [
        "my_str = \"Although 8 that way may not be obvious at first unless you're Dutch\"\n",
        "\n",
        "#Write the code to get the total count of 't' in above string. Use find() and index() method.\n",
        "print(my_str.find('t'))\n",
        "print(my_str.index('t'))\n",
        "\n",
        "#Write the code to get the index of '8' in my_str. Use find() and index() method.\n",
        "print(my_str.find('8'))\n",
        "print(my_str.index('8'))\n"
      ],
      "metadata": {
        "colab": {
          "base_uri": "https://localhost:8080/"
        },
        "id": "irvNq_eCv7HN",
        "outputId": "83e542e2-f6f2-499c-b887-05b2116d7758"
      },
      "execution_count": null,
      "outputs": [
        {
          "output_type": "stream",
          "name": "stdout",
          "text": [
            "2\n",
            "2\n",
            "9\n",
            "9\n"
          ]
        }
      ]
    },
    {
      "cell_type": "markdown",
      "source": [
        "#What will be the output of below code?\n",
        "print(my_str.find('the'))\n",
        "\n",
        "**Output : -1**\n",
        "\n",
        "print(my_str.index('the'))\n",
        "\n",
        "**Output : ValueError: substring not found**\n",
        "\n",
        "print(my_str.find('t', 9, 15))\n",
        "\n",
        "**Output : 11**\n",
        "\n",
        "print(my_str.rfind('u'))\n",
        "\n",
        "**Output : 63** \n",
        "\n",
        "print(my_str.rindex('u'))\n",
        "\n",
        "**Output : 63**"
      ],
      "metadata": {
        "id": "x-As-tMtgT7G"
      }
    },
    {
      "cell_type": "code",
      "source": [
        "#W A P which applies strip() method if any string, which will be taken from user, starts and ends with space, or applies \n",
        "#rrstrip() method if that string only ends with space or applies lstrip() method if that string only starts with a space.\n",
        "\n",
        "str1 = input(\"Enter a string which starts and ends with space: \")\n",
        "print(str1.strip())\n",
        "str1 = input(\"Enter a string which ends with space: \")\n",
        "print(str1.rstrip())\n",
        "str1 = input(\"Enter a string which starts with space: \")\n",
        "print(str1.lstrip())\n",
        "#For example:-\n",
        "#input:- '    Python   '\n",
        "#output:- 'Python'\n",
        "\n",
        "#input:- '    Python'\n",
        "#output:- 'Python'\n",
        "\n",
        "#input:- 'Python   '\n",
        "#output:- 'Python'"
      ],
      "metadata": {
        "colab": {
          "base_uri": "https://localhost:8080/"
        },
        "id": "V9CndabKx_gJ",
        "outputId": "f3ece1c2-9b01-417c-e06e-2dc12ca57b2f"
      },
      "execution_count": null,
      "outputs": [
        {
          "output_type": "stream",
          "name": "stdout",
          "text": [
            "Enter a string which starts and ends with space:         Python     \n",
            "Python\n",
            "Enter a string which ends with space: Python      \n",
            "Python\n",
            "Enter a string which starts with space:             Python\n",
            "Python\n"
          ]
        }
      ]
    },
    {
      "cell_type": "code",
      "source": [
        "my_str = \"Although 8 that way may not be obvious at first unless you're Dutch\"\n",
        "\n",
        "#Write the code to convert all alphabets in my_str into upper case.\n",
        "print(my_str.upper())\n",
        "\n",
        "#Write the code to convert all alphabets in my_str into lower case.\n",
        "print(my_str.lower())\n",
        "\n",
        "#Write the code to swap the cases of all alphabets in my_str.(lower to upper and upper to lower)\n",
        "print(my_str.swapcase())\n"
      ],
      "metadata": {
        "colab": {
          "base_uri": "https://localhost:8080/"
        },
        "id": "X61yH_7xyuWJ",
        "outputId": "cf68c077-5db5-41d0-948b-21084394b4ae"
      },
      "execution_count": null,
      "outputs": [
        {
          "output_type": "stream",
          "name": "stdout",
          "text": [
            "ALTHOUGH 8 THAT WAY MAY NOT BE OBVIOUS AT FIRST UNLESS YOU'RE DUTCH\n",
            "although 8 that way may not be obvious at first unless you're dutch\n",
            "aLTHOUGH 8 THAT WAY MAY NOT BE OBVIOUS AT FIRST UNLESS YOU'RE dUTCH\n"
          ]
        }
      ]
    },
    {
      "cell_type": "code",
      "source": [
        "#Write the code which takes one string from user and if it starts with small case letter then convert it to corresponding \n",
        "#capital letter otherwise if starts with capital letters then convert first character of every word in that string into capital.\n",
        "\n",
        "str1 = input(\"Enter a string:\")\n",
        "print(str1.title())"
      ],
      "metadata": {
        "colab": {
          "base_uri": "https://localhost:8080/"
        },
        "id": "orPIDdegzDel",
        "outputId": "76272fd7-3e33-4b27-e0c4-5fe0c94f547a"
      },
      "execution_count": null,
      "outputs": [
        {
          "output_type": "stream",
          "name": "stdout",
          "text": [
            "Enter a string:Python Is A Simple Language\n",
            "Python Is A Simple Language\n"
          ]
        }
      ]
    },
    {
      "cell_type": "code",
      "source": [
        "#Take a string from user and check if it is:-\n",
        "str1 = input(\"Enter a String: \")\n",
        "#     1. alphanumeric\n",
        "print(str1.isalnum())\n",
        "#     2. alphabets\n",
        "print(str1.isalpha())\n",
        "#     3. digit\n",
        "print(str1.isdigit())\n",
        "#     4. all letters are in lower case\n",
        "print(str1.islower())\n",
        "#     5. all letters are in upper case\n",
        "print(str1.isupper())\n",
        "#     6. in title case\n",
        "print(str1.istitle())\n",
        "#     7. a space character\n",
        "print(str1.isspace())\n",
        "#     8. numeric\n",
        "print(str1.isnumeric())\n",
        "#     9. all number elements in string are decimal\n",
        "print(str1.isdecimal())"
      ],
      "metadata": {
        "id": "zrXu0x17043C"
      },
      "execution_count": null,
      "outputs": []
    },
    {
      "cell_type": "code",
      "source": [
        "#W A P which takes a string as an input and prints True if the string is valid identifier else returns False.\n",
        "#Sample Input:- 'abc', 'abc1', 'ab1c', '1abc', 'abc$', '_abc', 'if'\n",
        "str1 = input(\"Enter a string to check whether it is a valid identifier or not :\")\n",
        "if str1.isidentifier():\n",
        "  print(\"True\")\n",
        "else:\n",
        "  print(\"False\")"
      ],
      "metadata": {
        "colab": {
          "base_uri": "https://localhost:8080/"
        },
        "id": "ANbOW2yr05D7",
        "outputId": "80cbf01a-fe74-4ebb-a5d9-8cc2ace25431"
      },
      "execution_count": null,
      "outputs": [
        {
          "output_type": "stream",
          "name": "stdout",
          "text": [
            "Enter a string to check whether it is a valid identifier or not :1abc\n",
            "False\n"
          ]
        }
      ]
    },
    {
      "cell_type": "markdown",
      "source": [
        "#What will be output of below code?\n",
        "s = chr(65) + chr(97)\n",
        "\n",
        "print(s.isprintable())\n",
        "\n",
        "**True**\n",
        "#Note: As ascii value of alphabets ranges from 65>=char<=90 and 97>=char<=122\n",
        "s = chr(27) + chr(97)\n",
        "\n",
        "print(s.isprintable())\n",
        "\n",
        "**False**\n",
        "\n",
        "#Note: As ascii value of alphabets ranges from 65>=char<=90 and 97>=char<=122\n",
        "\n",
        "s = '\\n'\n",
        "\n",
        "print(s.isprintable())\n",
        "\n",
        "**False**\n",
        "\n",
        "#Note: Line is not a printable character\n",
        "\n",
        "s = ''\n",
        "\n",
        "print(s.isprintable())\n",
        "\n",
        "**True**\n",
        "\n",
        "#Note : Space is a character"
      ],
      "metadata": {
        "id": "-jJpV2CAfnl0"
      }
    },
    {
      "cell_type": "markdown",
      "source": [
        "#What will be output of below code?\n",
        "my_string = '  '\n",
        "\n",
        "print(my_string.isascii())\n",
        "\n",
        "**True**\n",
        "\n",
        "my_string = 'Studytonight'\n",
        "\n",
        "print(my_string.isascii())\n",
        "\n",
        "**True**\n",
        "\n",
        "my_string = 'Study tonight'\n",
        "\n",
        "print(my_string.isascii())\n",
        "\n",
        "**True**\n",
        "\n",
        "my_string = 'Studytonight@123'\n",
        "\n",
        "print(my_string.isascii())\n",
        "\n",
        "**True**\n",
        "\n",
        "my_string = '°'\n",
        "\n",
        "print(my_string.isascii())\n",
        "\n",
        "**False**\n",
        "\n",
        "my_string = 'ö'\n",
        "\n",
        "print(my_string.isascii())\n",
        "\n",
        "**False**"
      ],
      "metadata": {
        "id": "AuYr_s_xfGks"
      }
    },
    {
      "cell_type": "markdown",
      "source": [
        "#What will be the output of below code?\n",
        "firstString = \"der Fluß\"\n",
        "\n",
        "secondString = \"der Fluss\"\n",
        "\n",
        "if firstString.casefold() == secondString.casefold():\n",
        "    \n",
        "    print('The strings are equal.')\n",
        "\n",
        "else:\n",
        "    \n",
        "    print('The strings are not equal.')\n",
        "\n",
        "\n",
        "**Output :- The strings are equal.**"
      ],
      "metadata": {
        "id": "RacWyLk8fQH-"
      }
    },
    {
      "cell_type": "code",
      "source": [
        "\n",
        "str1 = input(\"Enter a string:\")\n",
        "#Write the code to get below output\n",
        "#O/P 1:- python** (using ljust method)\n",
        "str2 = str1.ljust(8,'*')\n",
        "print(str2)\n",
        "#Write the code to get below output\n",
        "#O/P 1:- **python (using rjust method)\n",
        "str2 = str1.rjust(8,'*')\n",
        "print(str2)\n",
        "\n",
        "#Write the code to get below output\n",
        "#O/P 1:- **python** (using rjust method)\n",
        "str2 = str1.rjust(8,'*')\n",
        "str2 = str2.ljust(10,'*')\n",
        "print(str2)"
      ],
      "metadata": {
        "colab": {
          "base_uri": "https://localhost:8080/"
        },
        "id": "UVJa4C5a9MX3",
        "outputId": "825bf287-64b8-4620-c4c7-4a6453fd431b"
      },
      "execution_count": null,
      "outputs": [
        {
          "output_type": "stream",
          "name": "stdout",
          "text": [
            "Enter a string:python\n",
            "python**\n",
            "**python\n",
            "**python**\n"
          ]
        }
      ]
    },
    {
      "cell_type": "code",
      "source": [
        "#Write a Python program to find the length of the my_str:-\n",
        "\n",
        "my_str = input()\n",
        "#Input:- 'Write a Python program to find the length of the my_str'\n",
        "print(len(str1))\n",
        "#Output:- 55"
      ],
      "metadata": {
        "colab": {
          "base_uri": "https://localhost:8080/"
        },
        "id": "2a9klaj5--Qw",
        "outputId": "200f86af-f1dc-4cc2-fff4-bf689d3ce94c"
      },
      "execution_count": null,
      "outputs": [
        {
          "output_type": "stream",
          "name": "stdout",
          "text": [
            "Write a Python program to find the length of the my_str\n",
            "55\n"
          ]
        }
      ]
    },
    {
      "cell_type": "code",
      "source": [
        "#Write a Python program to find the total number of times letter 'p' is appeared in the below string:-\n",
        "my_str = input()   \n",
        "#Input:- 'peter piper picked a peck of pickled peppers.'\n",
        "count=0\n",
        "for character in my_str:\n",
        "  if character == 'p':\n",
        "    count=count+1\n",
        "print(count)\n",
        "#Output:- 9\n"
      ],
      "metadata": {
        "colab": {
          "base_uri": "https://localhost:8080/"
        },
        "id": "ulXF6snz_NWC",
        "outputId": "28dc1d49-9323-4aaf-ebf3-74c655765a3e"
      },
      "execution_count": null,
      "outputs": [
        {
          "output_type": "stream",
          "name": "stdout",
          "text": [
            "peter piper picked a peck of pickled peppers.\n",
            "9\n"
          ]
        }
      ]
    },
    {
      "cell_type": "code",
      "source": [
        "#Write a Python Program, to print all the indexes of all occurences of letter 'p' appeared in the string:-\n",
        "my_str = input()   \n",
        "#Input:- 'peter piper picked a peck of pickled peppers.'\n",
        "index=0\n",
        "for character in my_str:\n",
        "  if 'p' == character:\n",
        "    print(index)\n",
        "  index = index + 1\n",
        "  \n",
        "#Output:- \n",
        "# 0\n",
        "# 6\n",
        "# 8\n",
        "# 12\n",
        "# 21\n",
        "# 29\n",
        "# 37\n",
        "# 39\n",
        "# 40"
      ],
      "metadata": {
        "colab": {
          "base_uri": "https://localhost:8080/"
        },
        "id": "SyCSuGfS_rNO",
        "outputId": "8be97625-1482-4a15-9c22-e44e04af7347"
      },
      "execution_count": null,
      "outputs": [
        {
          "output_type": "stream",
          "name": "stdout",
          "text": [
            "peter piper picked a peck of pickled peppers.\n",
            "0\n",
            "6\n",
            "8\n",
            "12\n",
            "21\n",
            "29\n",
            "37\n",
            "39\n",
            "40\n"
          ]
        }
      ]
    },
    {
      "cell_type": "code",
      "source": [
        "#Write a python program to find below output:-\n",
        "my_str = input()\n",
        "#Input:- 'peter piper picked a peck of pickled peppers.'\n",
        "output = my_str.split()\n",
        "print(output)\n",
        "#Output:- ['peter', 'piper', 'picked', 'a', 'peck', 'of', 'pickled', 'peppers.']"
      ],
      "metadata": {
        "colab": {
          "base_uri": "https://localhost:8080/"
        },
        "id": "wYcdZltIB6MX",
        "outputId": "754fe604-c630-4916-c4c8-36138f9ae341"
      },
      "execution_count": null,
      "outputs": [
        {
          "output_type": "stream",
          "name": "stdout",
          "text": [
            "peter piper picked a peck of pickled peppers.\n",
            "['peter', 'piper', 'picked', 'a', 'peck', 'of', 'pickled', 'peppers.']\n"
          ]
        }
      ]
    },
    {
      "cell_type": "code",
      "source": [
        "#Write a python program to find below output:-\n",
        "my_str = input()\n",
        "#Input:- 'peter piper picked a peck of pickled peppers.'\n",
        "string_list = my_str.split()\n",
        "print(' '.join(string_list[::-1])) \n",
        "#Output:- 'peppers. pickled of peck a picked piper peter'"
      ],
      "metadata": {
        "colab": {
          "base_uri": "https://localhost:8080/"
        },
        "id": "hZM2-A7nCXpj",
        "outputId": "c4e88337-1ef4-4ae1-fb19-7a8edaaf72f2"
      },
      "execution_count": null,
      "outputs": [
        {
          "output_type": "stream",
          "name": "stdout",
          "text": [
            "peter piper picked a peck of pickled peppers.\n",
            "peppers. pickled of peck a picked piper peter\n"
          ]
        }
      ]
    },
    {
      "cell_type": "code",
      "source": [
        "#Write a python program to find below output:-\n",
        "my_str = input()\n",
        "#Input:- 'peter piper picked a peck of pickled peppers.'\n",
        "print(my_str[::-1])\n",
        "#Output:- '.sreppep delkcip fo kcep a dekcip repip retep'"
      ],
      "metadata": {
        "colab": {
          "base_uri": "https://localhost:8080/"
        },
        "id": "DqDIFd0-C2U0",
        "outputId": "e2431201-9886-473c-fb87-a542717ff096"
      },
      "execution_count": null,
      "outputs": [
        {
          "output_type": "stream",
          "name": "stdout",
          "text": [
            "peter piper picked a peck of pickled peppers.\n",
            ".sreppep delkcip fo kcep a dekcip repip retep\n"
          ]
        }
      ]
    },
    {
      "cell_type": "code",
      "source": [
        "#Write a python program to find below output:-\n",
        "my_str = input()\n",
        "my_str2=''\n",
        "#Input:- 'peter piper picked a peck of pickled peppers.'\n",
        "for words in my_str.split():\n",
        "  my_str2 += words[::-1] + ' '\n",
        "print(my_str2)\n",
        "#Output:- 'retep repip dekcip a kcep fo delkcip .sreppep'"
      ],
      "metadata": {
        "colab": {
          "base_uri": "https://localhost:8080/"
        },
        "id": "oVL6SXOeDACG",
        "outputId": "9336ec8a-e229-4988-fad7-ed4b340b120c"
      },
      "execution_count": null,
      "outputs": [
        {
          "output_type": "stream",
          "name": "stdout",
          "text": [
            "peter piper picked a peck of pickled peppers.\n",
            "retep repip dekcip a kcep fo delkcip .sreppep \n"
          ]
        }
      ]
    },
    {
      "cell_type": "code",
      "source": [
        "#Write a python program to find below output:-\n",
        "my_str = input()\n",
        "#Input:- 'peter piper picked a peck of pickled peppers.'\n",
        "print(my_str.title())\n",
        "#Output:- 'Peter Piper Picked A Peck Of Pickled Peppers.'"
      ],
      "metadata": {
        "colab": {
          "base_uri": "https://localhost:8080/"
        },
        "id": "-0uXygQxEZkN",
        "outputId": "24ab8e83-0728-4c2e-bb35-7078b3245005"
      },
      "execution_count": null,
      "outputs": [
        {
          "output_type": "stream",
          "name": "stdout",
          "text": [
            "peter piper picked a peck of pickled peppers.\n",
            "Peter Piper Picked A Peck Of Pickled Peppers.\n"
          ]
        }
      ]
    },
    {
      "cell_type": "code",
      "source": [
        "#Write a python program to find below output:-\n",
        "my_str = input()\n",
        "#Input:- 'Peter Piper Picked A Peck Of Pickled Peppers.'\n",
        "string_list = my_str.split()\n",
        "new_str = string_list[0]\n",
        "for words in string_list[1:]:\n",
        "    new_str = new_str + ' ' + words.replace(words[0], words[0].lower())\n",
        "print(new_str)\n",
        "#Output:- 'Peter piper picked a peck of pickled peppers.'"
      ],
      "metadata": {
        "colab": {
          "base_uri": "https://localhost:8080/"
        },
        "id": "u-dRgGN_EocI",
        "outputId": "225b776a-9c93-469b-c968-ede99ccad433"
      },
      "execution_count": null,
      "outputs": [
        {
          "output_type": "stream",
          "name": "stdout",
          "text": [
            "Peter Piper Picked A Peck Of Pickled Peppers.\n",
            "Peter piper picked a peck of pickled peppers.\n"
          ]
        }
      ]
    },
    {
      "cell_type": "code",
      "source": [
        "#Write a python program to implement index method. If sub_str is found in my_str then it will print the index\n",
        "# of first occurrence of first character of matching string in my_str:-\n",
        "my_str = input()\n",
        "sub_str = 'Pickl'\n",
        "count=0\n",
        "my_str_list = my_str.split()\n",
        "#Input:- my_str = 'Peter Piper Picked A Peck Of Pickled Peppers.', sub_str = 'Pickl'\n",
        "for words in my_str_list:\n",
        "   if sub_str in words:\n",
        "      print(count)\n",
        "   count += len(words) + 1   \n",
        "#Output:- 29"
      ],
      "metadata": {
        "colab": {
          "base_uri": "https://localhost:8080/"
        },
        "id": "_CDqVXxVE6GM",
        "outputId": "29406ea9-b8b0-4381-a9f0-26acf547d983"
      },
      "execution_count": null,
      "outputs": [
        {
          "output_type": "stream",
          "name": "stdout",
          "text": [
            "Peter Piper Picked A Peck Of Pickled Peppers.\n",
            "29\n"
          ]
        }
      ]
    },
    {
      "cell_type": "code",
      "source": [
        "#Write a python program to implement replace method. If sub_str is found in my_str then it will replace the first \n",
        "#occurrence of sub_str with new_str else it will will print sub_str not found:-\n",
        "my_str = input()\n",
        "sub_str = 'Peck'\n",
        "new_str = 'Pack'\n",
        "string_list = my_str.split()\n",
        "if sub_str in string_list:\n",
        "    index = string_list.index(sub_str)\n",
        "    string_list[index]=new_str\n",
        "    my_new_str = ' '.join(string_list)\n",
        "    print(my_new_str)\n",
        "else:\n",
        "  print(f\"{sub_str} not found\")\n",
        "#Input:- my_str = 'Peter Piper Picked A Peck Of Pickled Peppers.', sub_str = 'Peck', new_str = 'Pack'\n",
        "#Output:- 'Peter Piper Picked A Pack Of Pickled Peppers.'"
      ],
      "metadata": {
        "colab": {
          "base_uri": "https://localhost:8080/"
        },
        "id": "Jd0VqfyZKqzd",
        "outputId": "39d7d06d-bdaa-49cd-ae08-8ff0165dc9e0"
      },
      "execution_count": null,
      "outputs": [
        {
          "output_type": "stream",
          "name": "stdout",
          "text": [
            "Peter Piper Picked A Peck Of Pickled Peppers.\n",
            "Peter Piper Picked A Pack Of Pickled Peppers.\n"
          ]
        }
      ]
    },
    {
      "cell_type": "code",
      "source": [
        "#Write a python program to find below output (implements rjust and ljust):-\n",
        "my_str = input()\n",
        "sub_str = 'Peck'\n",
        "count = 0\n",
        "#Input:- 'Peter Piper Picked A Peck Of Pickled Peppers.', sub_str = 'Peck',\n",
        "for words in my_str.split():\n",
        "  if sub_str == words:\n",
        "    count +=len('Peck')\n",
        "    sub_str = sub_str.rjust(count, '*')\n",
        "  count += len(words) + 1\n",
        "else:\n",
        "    count -= len('Peck')\n",
        "sub_str = sub_str.ljust(count-1,'*')\n",
        "#Output:- '*********************Peck********************'\n",
        "print(sub_str)"
      ],
      "metadata": {
        "id": "Wgtubd0kKtfa",
        "colab": {
          "base_uri": "https://localhost:8080/"
        },
        "outputId": "18924e62-33c2-4603-ec11-400ec089d442"
      },
      "execution_count": null,
      "outputs": [
        {
          "output_type": "stream",
          "name": "stdout",
          "text": [
            "Peter Piper Picked A Peck Of Pickled Peppers.\n",
            "*********************Peck********************\n"
          ]
        }
      ]
    },
    {
      "cell_type": "code",
      "source": [
        ""
      ],
      "metadata": {
        "id": "eBaQmIqmE7Cr"
      },
      "execution_count": null,
      "outputs": []
    }
  ]
}