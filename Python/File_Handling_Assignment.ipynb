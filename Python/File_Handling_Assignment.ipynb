{
  "nbformat": 4,
  "nbformat_minor": 0,
  "metadata": {
    "colab": {
      "name": "File_Handling_Assignment.ipynb",
      "provenance": [],
      "collapsed_sections": []
    },
    "kernelspec": {
      "name": "python3",
      "display_name": "Python 3"
    },
    "language_info": {
      "name": "python"
    }
  },
  "cells": [
    {
      "cell_type": "code",
      "execution_count": null,
      "metadata": {
        "colab": {
          "base_uri": "https://localhost:8080/"
        },
        "id": "zg0XtNk-u1n9",
        "outputId": "cf575f0b-10e0-4b7e-bd76-37e51315bbff"
      },
      "outputs": [
        {
          "output_type": "stream",
          "name": "stdout",
          "text": [
            "William Carlos Williams, “The Red Wheelbarrow”\n",
            "\n",
            "T. S. Eliot, “The Waste Land”\n",
            "\n",
            "Robert Frost, “The Road Not Taken”\n",
            "\n",
            "Gwendolyn Brooks, “We Real Cool”\n",
            "\n",
            "Elizabeth Bishop, “One Art”\n",
            "\n",
            "Emily Dickinson, “Because I could not stop for Death –”\n",
            "\n",
            "Langston Hughes, “Harlem”\n",
            "\n",
            "Sylvia Plath, “Daddy”\n"
          ]
        }
      ],
      "source": [
        "# Write a function in python to read the content from \n",
        "# a text file \"poem.txt\" line by line and display the same on screen.\n",
        "import os\n",
        "try:\n",
        "   with open('poem.txt', 'r') as fread:\n",
        "       for lines in fread:\n",
        "          print(lines)\n",
        "except Exception as err:\n",
        "     print(err)"
      ]
    },
    {
      "cell_type": "code",
      "source": [
        "# Write a function in python to count the number of lines \n",
        "# from a text file \"story.txt\" which is not starting with an alphabet \"T\". \n",
        "\n",
        "# Example: If the file \"story.txt\" contains the following lines: A boy is playing there.\n",
        "# There is a playground.\n",
        "# An aeroplane is in the sky.\n",
        "# The sky is pink.\n",
        "# Alphabets and numbers are allowed in the password.\n",
        "# The function should display the output as 3\n",
        "def countT():\n",
        "  with open('story.txt','r') as fread:\n",
        "       data = fread.read()\n",
        "  count=0\n",
        "\n",
        "  for line in data.split('\\n'):\n",
        "    if not line.startswith('T'):\n",
        "       count+=1\n",
        "  print(f'{count}')\n",
        " \n",
        "countT()"
      ],
      "metadata": {
        "colab": {
          "base_uri": "https://localhost:8080/"
        },
        "id": "k59lbnaG_rOe",
        "outputId": "eaabc10e-5621-4e07-c1ae-ec91ec50a662"
      },
      "execution_count": null,
      "outputs": [
        {
          "output_type": "stream",
          "name": "stdout",
          "text": [
            "3\n"
          ]
        }
      ]
    },
    {
      "cell_type": "code",
      "source": [
        "# Write a function in Python to count and display the total number of words in a text file.\n",
        "try:\n",
        "    count_word=0\n",
        "    with open('poem.txt', 'r') as fread:\n",
        "          for lines in fread.readlines():\n",
        "               #To remove punctuations from the file\n",
        "               lines = re.sub(r'[^\\w\\s]', '', lines)\n",
        "               count_word+=len(lines.split())\n",
        "except Exception as err:\n",
        "      print(err)\n",
        "else:\n",
        "     print(\"count_word \" + str(count_word))    "
      ],
      "metadata": {
        "colab": {
          "base_uri": "https://localhost:8080/"
        },
        "id": "iUGeL1ApZO_z",
        "outputId": "97481e48-dd8a-4232-fd54-e64ad63e4b54"
      },
      "execution_count": null,
      "outputs": [
        {
          "output_type": "stream",
          "name": "stdout",
          "text": [
            "count_word 42\n"
          ]
        }
      ]
    },
    {
      "cell_type": "code",
      "source": [
        "# Write a function in Python to read lines from a text file \"notes.txt\". \n",
        "# Your function should find and display the occurrence of the word \"the\".\n",
        "\n",
        "# For example: If the content of the file is:\n",
        "# \"India is the fastest-growing economy. India is looking for more investments around the globe. The whole world is looking at India as a great market. Most of the Indians can foresee the heights that India is capable of reaching.\"\n",
        "\n",
        "# The output should be 5.\n",
        "try:\n",
        "   count=0\n",
        "   with open('notes.txt', 'r') as fread:\n",
        "     for lines in fread:\n",
        "         lines = lines.lower().split()\n",
        "         count = lines.count('the')\n",
        "except Exception as err:\n",
        "      print(err)\n",
        "else:\n",
        "     print(\"Count \" + str(count))\n"
      ],
      "metadata": {
        "colab": {
          "base_uri": "https://localhost:8080/"
        },
        "id": "QBKpVEP7_rRf",
        "outputId": "95afde85-f84c-4ea1-9ad4-5bf64801c13f"
      },
      "execution_count": null,
      "outputs": [
        {
          "output_type": "stream",
          "name": "stdout",
          "text": [
            "Count 5\n"
          ]
        }
      ]
    },
    {
      "cell_type": "code",
      "source": [
        "# Write a function display_words() in python to read lines from a text file \"story.txt\", \n",
        "# and display those words, which are less than 4 characters.\n",
        "\n",
        "def display_words(file_name: str):\n",
        "    try:\n",
        "        with open(file_name, 'r') as fread:\n",
        "            for lines in fread:\n",
        "                p = lines.split()\n",
        "                for i in p:\n",
        "                    if len(i) < 4:\n",
        "                       print(i)\n",
        "    except Exception as err:\n",
        "         print(err)\n",
        "\n",
        "display_words(\"story.txt\")"
      ],
      "metadata": {
        "colab": {
          "base_uri": "https://localhost:8080/"
        },
        "id": "2Vq2GOCb0n8H",
        "outputId": "53e0aa07-6446-46e7-aae6-c4693bcbfdf8"
      },
      "execution_count": null,
      "outputs": [
        {
          "output_type": "stream",
          "name": "stdout",
          "text": [
            "A\n",
            "boy\n",
            "is\n",
            "is\n",
            "a\n",
            "An\n",
            "is\n",
            "in\n",
            "the\n",
            "The\n",
            "sky\n",
            "is\n",
            "and\n",
            "are\n",
            "in\n",
            "the\n",
            "Count 5\n"
          ]
        }
      ]
    },
    {
      "cell_type": "code",
      "source": [
        "# Write a function in Python to count the words \"this\" and \"these\" present in a text file \"article.txt\". \n",
        "# [Note that the words \"this\" and \"these\" are complete words]\n",
        "\n",
        "def count_words_the_these(filename : str):\n",
        "    try:\n",
        "       count_the=0\n",
        "       count_these=0\n",
        "       with open('article.txt' , 'r') as fread:\n",
        "          for lines in fread:\n",
        "               lines = lines.lower()\n",
        "               count_the = lines.count('this')\n",
        "               count_these = lines.count('these')\n",
        "    except Exception as err:\n",
        "         print(err)\n",
        "    else:\n",
        "       print(f'Count of word \"the\" is {count_the} \\n Count of word \"these\" is {count_these}')\n",
        "\n",
        "count_words_the_these(\"article.txt\")\n",
        "             "
      ],
      "metadata": {
        "colab": {
          "base_uri": "https://localhost:8080/"
        },
        "id": "GnOuOiJi0rYk",
        "outputId": "be0b6257-df68-4d19-82a3-0938e193de30"
      },
      "execution_count": null,
      "outputs": [
        {
          "output_type": "stream",
          "name": "stdout",
          "text": [
            "Count of word \"the\" is 4 \n",
            " Count of word \"these\" is 4\n"
          ]
        }
      ]
    },
    {
      "cell_type": "code",
      "source": [
        "# Write a function in Python to count words in a text file those are ending with alphabet \"e\"\n",
        "import re\n",
        "def count_words(file_name: str):\n",
        "    count = 0 \n",
        "    try:\n",
        "        with open(file_name, 'r') as fread:\n",
        "            for lines in fread:\n",
        "                lines = re.sub(r'[^\\w\\s]', '', lines)\n",
        "                p = lines.split()\n",
        "                for i in p:\n",
        "                    if i[-1] == 'e':\n",
        "                        count+= 1\n",
        "    except Exception as err:\n",
        "         print(err)\n",
        "         return -1\n",
        "    else:\n",
        "        return count\n",
        "\n",
        "print(count_words(\"story.txt\"))\n"
      ],
      "metadata": {
        "colab": {
          "base_uri": "https://localhost:8080/"
        },
        "id": "NDoLb150cNk7",
        "outputId": "23704558-c09d-4d0d-e9fb-cc823c175992"
      },
      "execution_count": null,
      "outputs": [
        {
          "output_type": "stream",
          "name": "stdout",
          "text": [
            "A boy is playing there\n",
            "\n",
            "There is a playground\n",
            "\n",
            "An aeroplane is in the sky\n",
            "\n",
            "The sky is pink\n",
            "\n",
            "Alphabets and numbers are allowed in the password\n",
            "7\n"
          ]
        }
      ]
    },
    {
      "cell_type": "code",
      "source": [
        "# Write a function in Python to count uppercase character in a text file.\n",
        "import re\n",
        "def count_words(file_name: str):\n",
        "    count = 0 \n",
        "    try:\n",
        "        with open(file_name, 'r') as fread:\n",
        "            for lines in fread:\n",
        "                s = re.findall(r'[A-Z]', lines)\n",
        "                count+= len(s)\n",
        "            return count\n",
        "    except Exception as err:\n",
        "         print(err)\n",
        "         return -1\n",
        "    else:\n",
        "        return count\n",
        "\n",
        "print(count_words(\"story.txt\"))\n"
      ],
      "metadata": {
        "colab": {
          "base_uri": "https://localhost:8080/"
        },
        "id": "Ys2d40v5hFQW",
        "outputId": "7f3825ec-61fe-4793-e129-3883d4b95f87"
      },
      "execution_count": null,
      "outputs": [
        {
          "output_type": "stream",
          "name": "stdout",
          "text": [
            "9\n"
          ]
        }
      ]
    },
    {
      "cell_type": "code",
      "source": [
        "# A text file named \"matter.txt\" contains some text, which needs to be displayed such that \n",
        "# every next character is separated by a symbol \"#\". \n",
        "# Write a function definition for hash_display() in Python that would display \n",
        "# the entire content of the file matter.txt in the desired format.\n",
        "\n",
        "# Example :\n",
        "# If the file matter.txt has the following content stored in it :\n",
        "# THE WORLD IS ROUND\n",
        "\n",
        "# The function hash_display() should display the following content :\n",
        "# T#H#E# #W#O#R#L#D# #I#S# #R#O#U#N#D#\n",
        "\n",
        "def hash_display(filename:  str):\n",
        "  with open(filename) as fread:\n",
        "      s = ''\n",
        "      for lines in fread:\n",
        "          for i in range(len(lines)):\n",
        "               s += lines[i] + '#'\n",
        "              \n",
        "      return s    \n",
        "\n",
        "hash_display('check_list.txt')"
      ],
      "metadata": {
        "colab": {
          "base_uri": "https://localhost:8080/",
          "height": 37
        },
        "id": "Mm464MHjsG_0",
        "outputId": "ede659d7-60d8-45b5-d494-84803b3e1b4e"
      },
      "execution_count": null,
      "outputs": [
        {
          "output_type": "execute_result",
          "data": {
            "application/vnd.google.colaboratory.intrinsic+json": {
              "type": "string"
            },
            "text/plain": [
              "'T#H#E# #W#O#R#L#D# #I#S# #R#O#U#N#D#'"
            ]
          },
          "metadata": {},
          "execution_count": 72
        }
      ]
    },
    {
      "cell_type": "code",
      "source": [
        "# Aditi has used a text editing software to type some text. After saving the article as WORDS.TXT, \n",
        "# she realised that she has wrongly typed alphabet J in place of alphabet I everywhere in the article.\n",
        "# Write a function definition for JTOI() in Python that would display the corrected version of entire content \n",
        "# of the file WORDS.TXT with all the alphabets \"J\" to be displayed as an alphabet \"I\" on screen.\n",
        "\n",
        "# Note: Assuming that WORD.TXT does not contain any J alphabet otherwise.\n",
        "\n",
        "# Example:\n",
        "# If Aditi has stored the following content in the file WORDS.TXT:\n",
        "# WELL, THJS JS A WORD BY JTSELF. YOU COULD STRETCH THJS TO BE A SENTENCE\n",
        "# The function JTOI() should display the following content:\n",
        "# WELL, THIS IS A WORD BY ITSELF. YOU COULD STRETCH THIS TO BE A SENTENCE\n",
        "def JTOI(filename:  str):\n",
        "    with open(filename) as fread:\n",
        "        data = fread.read()\n",
        "        print(data.replace('J', 'I'))\n",
        "\n",
        "JTOI('words.txt')\n"
      ],
      "metadata": {
        "colab": {
          "base_uri": "https://localhost:8080/"
        },
        "id": "Jh4qw1bWvIfT",
        "outputId": "06b89078-b7d4-48cf-b652-7a46598235d9"
      },
      "execution_count": 7,
      "outputs": [
        {
          "output_type": "stream",
          "name": "stdout",
          "text": [
            "WELL, THIS IS A WORD BY ITSELF. YOU COULD STRETCH THIS TO BE A SENTENCE\n"
          ]
        }
      ]
    },
    {
      "cell_type": "code",
      "source": [
        "# Write a function AMCount() in Python, which should read each character of a text file STORY.TXT, \n",
        "# should count and display the occurance of alphabets A and M (including small cases a and m too).\n",
        "# For Example:\n",
        "# If the file content is as follows:\n",
        "# Updated information\n",
        "# As simplified by official websites.\n",
        "# The EUCount() function should display the output as:\n",
        "# A or a:4\n",
        "# M or m :2\n",
        "import re\n",
        "def AMCount(filename:  str):\n",
        "  count_A=0\n",
        "  count_M=0\n",
        "  pattern_for_a = r'[Aa]'\n",
        "  pattern_for_m = r'[Mm]'\n",
        "  with open(filename) as fread:\n",
        "      data = fread.read()\n",
        "  count_A += len(re.findall(pattern_for_a, data))\n",
        "  count_M += len(re.findall(pattern_for_m, data))\n",
        "\n",
        "  print(f'A or a:{count_A}')\n",
        "  print(f'M or m:{count_M}')\n",
        "          \n",
        "              \n",
        "AMCount('alpha.txt')\n",
        "\n"
      ],
      "metadata": {
        "colab": {
          "base_uri": "https://localhost:8080/"
        },
        "id": "XHZXA7DEvLO5",
        "outputId": "f1870abc-d730-4275-c630-6c7552b30539"
      },
      "execution_count": null,
      "outputs": [
        {
          "output_type": "stream",
          "name": "stdout",
          "text": [
            "A or a:4\n",
            "M or m:2\n"
          ]
        }
      ]
    },
    {
      "cell_type": "code",
      "source": [
        "# A binary file \"Book.dat\" has structure [BookNo, Book_Name, Author, Price].\n",
        "# i. Write a user defined function createFile() to input data for a record and add to Book.dat.\n",
        "# ii. Write a function countRec(Author) in Python which accepts the Author name as parameter \n",
        "# and count and return number of books by the given Author are stored in the binary file \"Book.dat\"\n",
        "import pickle\n",
        "\n",
        "def createFile(filename : str):                                                                                                \n",
        "   try:\n",
        "      print(\"Creating files with book details\")                                                                \n",
        "      with open(filename, 'wb') as fwrite:\t                           \n",
        "          n = int(input('Please enter how many books u want to input'))\n",
        "          for i in range(n):                                           \n",
        "             book_no = int(input(\"Please enter book no\"))                   \n",
        "             book_name = input(\"Please enter book name\")               \n",
        "             author = input(\"Please enter author\")                     \n",
        "             price = input(\"Please enter price\")                       \n",
        "             pickle.dump([book_no,book_name,author,price],fwrite)                                                                                \n",
        "   except Exception as e:                                              \n",
        "\t     print(e)                                                                                                        \n",
        "\n",
        "createFile('Book.dat')\n",
        "def countrec(author : str):\n",
        "  print(f\"Count of book which belongs to {author}\")\n",
        "  count=0\n",
        "  with open('Book.dat', 'rb') as fread:\n",
        "       while True:\n",
        "             try:\n",
        "                content = pickle.load(fread)\n",
        "                if author in content:\n",
        "                      count+=1\n",
        "\n",
        "             except:\n",
        "                 break\n",
        "  print(count)\n",
        "author = input(\"Enter author name u want to search \")\n",
        "countrec(author)"
      ],
      "metadata": {
        "colab": {
          "base_uri": "https://localhost:8080/"
        },
        "id": "5IMzgPT0vN_U",
        "outputId": "9ca0deaa-fbfe-4c07-ae28-a00475ef36c8"
      },
      "execution_count": null,
      "outputs": [
        {
          "output_type": "stream",
          "name": "stdout",
          "text": [
            "Please enter how many books u want to input3\n",
            "Please enter book no1\n",
            "Please enter book nameWings of Fire\n",
            "Please enter authorAPJ Abdul Kalam\n",
            "Please enter price2000\n",
            "Please enter book no2\n",
            "Please enter book nameTurning Point\n",
            "Please enter authorAPJ Abdul Kalam\n",
            "Please enter price5000\n",
            "Please enter book no3\n",
            "Please enter book nameMy Name is Kalam\n",
            "Please enter authorAPJ Abdul Kalam\n",
            "Please enter price5000\n",
            "3\n"
          ]
        }
      ]
    },
    {
      "cell_type": "code",
      "source": [
        "# A binary file \"STUDENT.DAT\" has structure (admission_number, Name, Percentage). \n",
        "# Write a function count_rec() in Python that would read contents of the file \"STUDENT.DAT\" \n",
        "# and display the details of those students whose percentage is above 75. \n",
        "# Also display number of students scoring above 75%\n",
        "import pickle\n",
        "\n",
        "def createFile(filename : str):                                        \n",
        "                                                                                                                        \n",
        "   try:  \n",
        "      print(\"Creating file with student details\")                                                              \n",
        "      with open(filename, 'wb') as fwrite:\t                           \n",
        "          n = int(input('Please enter how many books u want to input'))\n",
        "          for i in range(n):                                           \n",
        "             admission_number = int(input(\"Please enter admission no\"))                   \n",
        "             student_name = input(\"Please enter student name\")               \n",
        "             student_percentage = int(input(\"Please percentage \"))                                                                                                                 \n",
        "             pickle.dump((admission_number,student_name,student_percentage),fwrite)                                                                                 \n",
        "   except Exception as e:                                              \n",
        "\t     print(e)                                                                                                            \n",
        "\n",
        "n = createFile('Student.dat')\n",
        "def count_rec(filename:str):\n",
        "  count=0\n",
        "  with open(filename, 'rb') as fread:\n",
        "       while True:\n",
        "            try:\n",
        "                content = pickle.load(fread)\n",
        "                if content[2] > 75:\n",
        "                    print(f'Student Details : {content}')\n",
        "                    count+=1\n",
        "            except:\n",
        "                 break\n",
        "\n",
        "  print(f'{count} students scored above 75%')\n",
        "count_rec('Student.dat')"
      ],
      "metadata": {
        "id": "p6N1nfHOvQgU",
        "colab": {
          "base_uri": "https://localhost:8080/"
        },
        "outputId": "ea43102d-b6f7-4c4c-a636-b6be35c95289"
      },
      "execution_count": null,
      "outputs": [
        {
          "output_type": "stream",
          "name": "stdout",
          "text": [
            "Please enter how many books u want to input3\n",
            "Please enter admission no23\n",
            "Please enter student nameShefali\n",
            "Please percentage 95\n",
            "Please enter admission no60\n",
            "Please enter student namePushpa\n",
            "Please percentage 65\n",
            "Please enter admission no34\n",
            "Please enter student nameSeekha\n",
            "Please percentage 45\n",
            "Details : 23\n",
            "1 students scored above 75%\n"
          ]
        }
      ]
    },
    {
      "cell_type": "code",
      "source": [
        "# Given a binary file employee.dat, created using dictionary object having keys: (empcode, name, and salary)\n",
        "\n",
        "# Write a python function that add one more record at the end of file.\n",
        "# Write a python function that display all employee records whose salary is more that 30000\n",
        "import pickle\n",
        "def add_record(filename : str):                                        \n",
        "   n=0                                                                 \n",
        "   employee_dict = {}                                                        \n",
        "   try:                                                                \n",
        "      with open(filename, 'ab') as fwrite:\t                           \n",
        "          n = int(input('Please enter how many record u want to add')) \n",
        "          for i in range(n):                                        \n",
        "            employee_code = int(input(\"Please enter employee no\"))                 \n",
        "            employee_name = input(\"Please enter employee name\")            \n",
        "            salary = int(input(\"Please enter employee salary\"))\n",
        "            employee_dict['empcode'] = employee_code\n",
        "            employee_dict['employee_name'] = employee_name\n",
        "            employee_dict['salary'] = salary                                                                                                            \n",
        "            pickle.dump(employee_dict,fwrite)                                                                                \n",
        "   except Exception as e:                                              \n",
        "\t     print(e)                                                      \n",
        "   finally:                                                            \n",
        "        return n                                                       \n",
        "\n",
        "n = add_record('employee.dat')\n",
        "def display_employee_records():\n",
        "  with open('employee.dat', 'rb') as fread:\n",
        "       while True:\n",
        "         try:\n",
        "            content = pickle.load(fread)\n",
        "            if content['salary'] > 30000:\n",
        "                print(f\"employee Records which has salary more than 30000: {content}\")\n",
        "         except:\n",
        "             break\n",
        "        \n",
        "display_employee_records()"
      ],
      "metadata": {
        "id": "j62eDUk5yrrC",
        "colab": {
          "base_uri": "https://localhost:8080/"
        },
        "outputId": "e9e8fee3-1160-4b9c-af87-849e03808a2a"
      },
      "execution_count": null,
      "outputs": [
        {
          "output_type": "stream",
          "name": "stdout",
          "text": [
            "Please enter how many record u want to add2\n",
            "Please enter employee no104\n",
            "Please enter employee nameSeekha\n",
            "Please enter employee salary40000\n",
            "Please enter employee no105\n",
            "Please enter employee nameKalki\n",
            "Please enter employee salary30000\n",
            "employee Records : {'empcode': 101, 'employee_name': 'Shefali', 'salary': 60000}\n",
            "employee Records : {'empcode': 104, 'employee_name': 'Seekha', 'salary': 40000}\n"
          ]
        }
      ]
    },
    {
      "cell_type": "code",
      "source": [
        "# Write a function to search and display details of student whose rollno is '1005' \n",
        "# from the binary file student.dat having structure [rollno, name, class and fees].\n",
        "import pickle\n",
        "def add(filename : str):\n",
        "    try:\n",
        "       with open(filename, 'wb') as fwrite:\n",
        "           for i in range(5):\n",
        "               roll_no = int(input(\"Enter roll_no: \"))\n",
        "               student_name = input(\"Enter student name: \")\n",
        "               classname= input(\"Enter class name: \")\n",
        "               fees = int(input(\"Enter fees: \"))\n",
        "               pickle.dump([roll_no,student_name,classname,fees], fwrite)\n",
        "    except Exception as e:\n",
        "        print(e)\n",
        "add('student.dat')\n",
        "def display_student_records():\n",
        "  with open('student.dat', 'rb') as fread:\n",
        "       while True:\n",
        "         try:\n",
        "            content = pickle.load(fread)\n",
        "            if content[0] == 1005:\n",
        "              print(f\"Student Detail : {content}\")\n",
        "         except:\n",
        "            break\n",
        "\n",
        "        \n",
        "display_student_records()"
      ],
      "metadata": {
        "id": "kLFTScA1ysen"
      },
      "execution_count": null,
      "outputs": []
    },
    {
      "cell_type": "code",
      "source": [
        "# A binary file school.dat has structure(rollno, name, class, fees)\n",
        "\n",
        "# Write a definition for function total_fees( ) that reads each object of file and calculate \n",
        "# the total fees of students and display the same.\n",
        "import pickle\n",
        "def add(filename : str):\n",
        "    try:\n",
        "       with open(filename, 'wb') as fwrite:\n",
        "           for i in range(3):\n",
        "               roll_no = int(input(\"Enter roll_no: \"))\n",
        "               student_name = input(\"Enter student name: \")\n",
        "               classname= input(\"Enter class name: \")\n",
        "               fees = int(input(\"Enter fees: \"))\n",
        "               pickle.dump((roll_no,student_name,classname,fees), fwrite)\n",
        "    except Exception as e:\n",
        "        print(e)\n",
        "add('school.dat')\n",
        "def total_fees(filename:str):\n",
        "   fees=0\n",
        "   with open(filename, 'rb') as fread:\n",
        "        while True:\n",
        "          try:\n",
        "              school_content = pickle.load(fread)\n",
        "              fees +=school_content[3]\n",
        "          except:\n",
        "            break\n",
        "   print(f'Total Fees calculated {fees}')\n",
        "\n",
        "total_fees('school.dat')\n",
        "      "
      ],
      "metadata": {
        "id": "JWpQf1H3yvgh",
        "colab": {
          "base_uri": "https://localhost:8080/"
        },
        "outputId": "e0c2f5e2-d75b-4fb3-f34c-f509196806a3"
      },
      "execution_count": null,
      "outputs": [
        {
          "output_type": "stream",
          "name": "stdout",
          "text": [
            "Enter roll_no: 1\n",
            "Enter student name: Aditi\n",
            "Enter class name: 12th\n",
            "Enter fees: 120000\n",
            "Enter roll_no: 2\n",
            "Enter student name: Preeti\n",
            "Enter class name: 10th\n",
            "Enter fees: 10000\n",
            "Enter roll_no: 3\n",
            "Enter student name: Pushpa\n",
            "Enter class name: 8th\n",
            "Enter fees: 8000\n",
            "Total Fees calculated 138000\n"
          ]
        }
      ]
    },
    {
      "cell_type": "code",
      "source": [
        "# A binary file players.dat, containing records of following list format: [code, name, country and total runs]\n",
        "\n",
        "# 1. Write a python function that display all records where player name starts from 'A'\n",
        "# 2. Write a python function that accept country as an argument and count and display \n",
        "#     the number of players of that country.\n",
        "# 3. Write a python function that add one record at the end of file.\n",
        "import pickle\n",
        "\n",
        "def add(filename : str):\n",
        "    try:\n",
        "       with open(filename, 'wb') as fwrite:\n",
        "           for i in range(3):\n",
        "               player_code = int(input(\"Enter player code: \"))\n",
        "               player_name = input(\"Enter player name: \")\n",
        "               country = input(\"Enter country name: \")\n",
        "               total_runs = input(\"Enter total_runs: \")\n",
        "               pickle.dump([player_code,player_name,country,total_runs], fwrite)\n",
        "    except Exception as e:\n",
        "        print(e)\n",
        "add('player.dat')  \n",
        "def display_record_with_nameA(filename : str):\n",
        "    with open(filename, 'rb') as fread:\n",
        "         while True:\n",
        "            try:\n",
        "                game_record = pickle.load(fread)\n",
        "                if game_record[1][0] == 'A':\n",
        "                   print(f'Player Detail : {game_record}')\n",
        "            except:\n",
        "               break \n",
        "display_record_with_nameA('player.dat')\n",
        "def count_country_player(country : str):\n",
        "    total_num_player =0\n",
        "    with open('player.dat', 'rb') as fread:\n",
        "         while True:\n",
        "            try:\n",
        "                plyer_record = pickle.load(fread)\n",
        "                if plyer_record[2] == country:\n",
        "                    total_num_player+=1\n",
        "            except:\n",
        "               break\n",
        "            \n",
        "    print(f'{total_num_player} number of player belonging to {country}') \n",
        "\n",
        "count_country_player('England')\n",
        "def add_record(filename : str):\n",
        "    try:\n",
        "       with open(filename, 'ab') as fwrite:\n",
        "               player_code = int(input(\"Enter player code: \"))\n",
        "               player_name = input(\"Enter player name: \")\n",
        "               country = input(\"Enter country name: \")\n",
        "               total_runs = input(\"Enter total_runs: \")\n",
        "               pickle.dump([player_code,player_name,country,total_runs], fwrite)\n",
        "    except Exception as e:\n",
        "        print(e)\n",
        "add_record('filename')"
      ],
      "metadata": {
        "id": "W-eW1fg5yyGg",
        "colab": {
          "base_uri": "https://localhost:8080/"
        },
        "outputId": "a5e012cc-3d12-47ea-b0c4-65e6bbe5db13"
      },
      "execution_count": null,
      "outputs": [
        {
          "name": "stdout",
          "output_type": "stream",
          "text": [
            "Enter player code: 101\n",
            "Enter player name: Sachin Tendulakar\n",
            "Enter country name: India\n",
            "Enter total_runs: 500000000\n",
            "Enter player code: 102\n",
            "Enter player name: AB Devillar\n",
            "Enter country name: South Africa\n",
            "Enter total_runs: 4000000\n",
            "Enter player code: 103\n",
            "Enter player name: Sam Curran\n",
            "Enter country name: England\n",
            "Enter total_runs: 100000000\n",
            "Player Detail : [102, 'AB Devillar', 'South Africa', '4000000']\n",
            "1 number of player belonging to England\n",
            "Enter player code: 104\n",
            "Enter player name: kane Williamson\n",
            "Enter country name: New Zealand\n",
            "Enter total_runs: 50000000\n"
          ]
        }
      ]
    },
    {
      "cell_type": "code",
      "source": [
        "# Given a binary file game.dat, containing records of following list format: [game_name, participants]\n",
        "\n",
        "# Write a function in Python that would read contents from the file game.dat and \n",
        "# creates a file named basket.dat copying only those records from game.dat where the game name is \"Basket Ball\"\n",
        "\n",
        "import pickle\n",
        "\n",
        "def add(filename : str):\n",
        "    try:\n",
        "       with open(filename, 'wb') as fwrite:\n",
        "           for i in range(5):\n",
        "               participants_ls = [participant for participant in input('Enter participants list').split(',')]\n",
        "               game_list = [input('Enter game_name ')]\n",
        "               game_list.extend(participants_ls)\n",
        "               pickle.dump(game_list, fwrite)\n",
        "    except Exception as e:\n",
        "        print(e)\n",
        "add('game.dat')  \n",
        "def display(filename : str):\n",
        "    with open(filename, 'rb') as fread:\n",
        "         while True:\n",
        "            try:\n",
        "                game_record = pickle.load(fread)\n",
        "                if game_record[0] == 'Basket Ball' :\n",
        "                     with open('basket.dat','wb') as fwrite:\n",
        "                          pickle.dump(game_record, fwrite)\n",
        "            except:\n",
        "               break \n",
        "         \n",
        "display('game.dat')"
      ],
      "metadata": {
        "id": "iK5fDGkOy1Zs",
        "colab": {
          "base_uri": "https://localhost:8080/"
        },
        "outputId": "956d6f84-932b-4279-f253-79a4cab17b01"
      },
      "execution_count": null,
      "outputs": [
        {
          "name": "stdout",
          "output_type": "stream",
          "text": [
            "Enter participants listSachin,Rahul,Sehwag,Dhoni,KL Rahul\n",
            "Enter game_name Criclet\n",
            "Enter participants listRonaldo,Messi,Sunil Chettri,Sahal Samad,Xavi\n",
            "Enter game_name Football\n",
            "Enter participants listRafale Nadal,Saina nehwal,NOVAK DJOKOVIC,Michael Chang\n",
            "Enter game_name Tennis\n",
            "Enter participants listrupinder pal,manpreet singh,dhyaan chand,Simranjeet Singh,sreejash,hardik singh\n",
            "Enter game_name hockeyt\n",
            "Enter participants listkobe bryant,michael jordan,kevin\n",
            "Enter game_name Basket Ball\n"
          ]
        }
      ]
    }
  ]
}