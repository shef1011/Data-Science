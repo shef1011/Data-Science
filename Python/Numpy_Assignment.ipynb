{
  "nbformat": 4,
  "nbformat_minor": 0,
  "metadata": {
    "colab": {
      "name": "Numpy_Assignment.ipynb",
      "provenance": [],
      "collapsed_sections": []
    },
    "kernelspec": {
      "name": "python3",
      "display_name": "Python 3"
    },
    "language_info": {
      "name": "python"
    }
  },
  "cells": [
    {
      "cell_type": "code",
      "source": [
        "#Print numpy version\n",
        "np.__version__"
      ],
      "metadata": {
        "colab": {
          "base_uri": "https://localhost:8080/",
          "height": 38
        },
        "id": "89trKWNu1Rg2",
        "outputId": "3cddbc95-312c-47fb-91b5-e4c499e8ecf4"
      },
      "execution_count": null,
      "outputs": [
        {
          "output_type": "execute_result",
          "data": {
            "application/vnd.google.colaboratory.intrinsic+json": {
              "type": "string"
            },
            "text/plain": [
              "'1.19.5'"
            ]
          },
          "metadata": {},
          "execution_count": 40
        }
      ]
    },
    {
      "cell_type": "code",
      "source": [
        "#To reverse an array\n",
        "arr1 = np.array([1,2,3,4,5,6,7,])\n",
        "arr1[::-1]"
      ],
      "metadata": {
        "colab": {
          "base_uri": "https://localhost:8080/"
        },
        "id": "mOyDWNxi2NUm",
        "outputId": "541fa277-95e5-4e67-c311-20878d72b6cc"
      },
      "execution_count": null,
      "outputs": [
        {
          "output_type": "execute_result",
          "data": {
            "text/plain": [
              "array([7, 6, 5, 4, 3, 2, 1])"
            ]
          },
          "metadata": {},
          "execution_count": 41
        }
      ]
    },
    {
      "cell_type": "code",
      "source": [
        "#Convert list and tuples into array\n",
        "l = [100,90,40,700,200,10]\n",
        "arr_lst = np.array(l)\n",
        "print(arr_lst)\n",
        "\n",
        "t = (10,11,12,100,50,70)\n",
        "arr_tuple = np.array(t)\n",
        "print(arr_tuple)"
      ],
      "metadata": {
        "colab": {
          "base_uri": "https://localhost:8080/"
        },
        "id": "ictMJh1Q3aHl",
        "outputId": "b19497bf-f980-40bc-d538-7ce45275953a"
      },
      "execution_count": null,
      "outputs": [
        {
          "output_type": "stream",
          "name": "stdout",
          "text": [
            "[100  90  40 700 200  10]\n",
            "[ 10  11  12 100  50  70]\n"
          ]
        }
      ]
    },
    {
      "cell_type": "code",
      "source": [
        "#Python Program to find common elements in two array\n",
        "import numpy as np\n",
        "arr1 = np.array([3,4,5, 10, 11, 0])\n",
        "arr2 = np.array([2,8,0, 1,100,20,11,55])\n",
        "shape_of_array = arr2.shape[0] if arr1.shape[0] > arr2.shape[0] else arr1.shape[0]\n",
        "arr3 = [arr1[i] for i in range(arr1.shape[0]) if arr1[i] in arr2]\n",
        "arr3"
      ],
      "metadata": {
        "id": "Hm1X9mx43wKY",
        "colab": {
          "base_uri": "https://localhost:8080/"
        },
        "outputId": "9da7f2b9-5c80-4c7a-e89d-0fc81a46f128"
      },
      "execution_count": null,
      "outputs": [
        {
          "output_type": "execute_result",
          "data": {
            "text/plain": [
              "[11, 0]"
            ]
          },
          "metadata": {},
          "execution_count": 43
        }
      ]
    },
    {
      "cell_type": "code",
      "source": [
        "#Python Program to compare two arrays.\n",
        "#All method doesnt work if sizes are not equal\n",
        "import numpy as np\n",
        "arr1 = np.array([3,4,5, 10, 11, 0])\n",
        "arr2 = np.array([2,8,0, 1,100,20,11,55])\n",
        "arr1 == arr2"
      ],
      "metadata": {
        "colab": {
          "base_uri": "https://localhost:8080/"
        },
        "id": "e9bt_ePMeaxD",
        "outputId": "b1c5b9ff-0a34-4b6a-cf31-e64d335628c3"
      },
      "execution_count": null,
      "outputs": [
        {
          "output_type": "stream",
          "name": "stderr",
          "text": [
            "/usr/local/lib/python3.7/dist-packages/ipykernel_launcher.py:6: DeprecationWarning: elementwise comparison failed; this will raise an error in the future.\n",
            "  \n"
          ]
        },
        {
          "output_type": "execute_result",
          "data": {
            "text/plain": [
              "False"
            ]
          },
          "metadata": {},
          "execution_count": 44
        }
      ]
    },
    {
      "cell_type": "code",
      "source": [
        "#Write a Python program to change the dimension of an array.\n",
        "arr3 = np.array([1,2,3,4,5,10])\n",
        "s = arr3.shape[0]\n",
        "sizes_list = [(i, int(s/i)) for i in range(1,s+1) if s%i == 0]\n",
        "for i in range(len(sizes_list)):\n",
        "  arr3 = arr3.reshape(sizes_list[i][0], sizes_list[i][1])\n",
        "  print(arr3.shape)"
      ],
      "metadata": {
        "colab": {
          "base_uri": "https://localhost:8080/"
        },
        "id": "LJSykJuix9AW",
        "outputId": "5621dfae-1ca4-4d04-fbe1-b83689912ee5"
      },
      "execution_count": null,
      "outputs": [
        {
          "output_type": "stream",
          "name": "stdout",
          "text": [
            "(1, 6)\n",
            "(2, 3)\n",
            "(3, 2)\n",
            "(6, 1)\n"
          ]
        }
      ]
    },
    {
      "cell_type": "code",
      "source": [
        "#Python Program to sum all the multiples of 3, 5 upto 10\n",
        "import numpy as np\n",
        "arr1 = np.array([i for i in range(3,100) if i % 3 == 0 or i % 5 == 0])\n",
        "arr1.sum()"
      ],
      "metadata": {
        "id": "3AU3CZG-5iVM",
        "colab": {
          "base_uri": "https://localhost:8080/"
        },
        "outputId": "9501209a-6097-4f64-b037-b8d5e1c47295"
      },
      "execution_count": null,
      "outputs": [
        {
          "output_type": "execute_result",
          "data": {
            "text/plain": [
              "2318"
            ]
          },
          "metadata": {},
          "execution_count": 46
        }
      ]
    },
    {
      "cell_type": "code",
      "source": [
        "#Write a Python program to convert a NumPy array into Python list structure.\n",
        "arr = np.array([10,20,0,50,30,11])\n",
        "converted_lst = list(arr)\n",
        "type(converted_lst)"
      ],
      "metadata": {
        "colab": {
          "base_uri": "https://localhost:8080/"
        },
        "id": "KZsO-BJKHAO8",
        "outputId": "a2d52e16-11be-4607-b320-de743a8e90ee"
      },
      "execution_count": null,
      "outputs": [
        {
          "output_type": "execute_result",
          "data": {
            "text/plain": [
              "list"
            ]
          },
          "metadata": {},
          "execution_count": 47
        }
      ]
    },
    {
      "cell_type": "code",
      "source": [
        "#Write a Python program to how to add an extra column to a numpy array.\n",
        "arr1 = np.array([[10,20,40], [20,40,10], [40,10,20]])\n",
        "arr2 = np.array([[100],[300],[500]])\n",
        "arr2 = np.array([[300,500,800]])\n",
        "np.concatenate((arr1,arr2.reshape(1,3)))"
      ],
      "metadata": {
        "colab": {
          "base_uri": "https://localhost:8080/"
        },
        "id": "GtuA1l6pH-8z",
        "outputId": "913ec088-3603-4f26-a2b8-93702364332f"
      },
      "execution_count": null,
      "outputs": [
        {
          "output_type": "execute_result",
          "data": {
            "text/plain": [
              "array([[ 10,  20,  40],\n",
              "       [ 20,  40,  10],\n",
              "       [ 40,  10,  20],\n",
              "       [300, 500, 800]])"
            ]
          },
          "metadata": {},
          "execution_count": 48
        }
      ]
    },
    {
      "cell_type": "code",
      "source": [
        "#Write a Python program to check whether the numpy array is empty or not\n",
        "a = np.array([])\n",
        "b = np.array([[10,20,30],[40,50,60]])\n",
        "c=np.array([10,20,30])\n",
        "if a.size is 0:\n",
        "   print(\"Array is empty\")\n",
        "   "
      ],
      "metadata": {
        "colab": {
          "base_uri": "https://localhost:8080/"
        },
        "id": "iFwdkW6VK2BG",
        "outputId": "c6dea3bb-f966-493e-a78d-020b1cee3de9"
      },
      "execution_count": null,
      "outputs": [
        {
          "output_type": "stream",
          "name": "stdout",
          "text": [
            "Array is empty\n"
          ]
        }
      ]
    },
    {
      "cell_type": "code",
      "source": [
        "#Normalise a 3*3 random matrix\n",
        "arr1 = np.random.rand(2,2)\n",
        "print(\"Before Normalisation: \")\n",
        "print(arr1)\n",
        "xmax, xmin = arr1.max(), arr1.min()\n",
        "x = (arr1 - xmin)/(xmax - xmin)\n",
        "print(\"After normalization:\")\n",
        "print(x)"
      ],
      "metadata": {
        "colab": {
          "base_uri": "https://localhost:8080/"
        },
        "id": "c-J_0tyxIz0Y",
        "outputId": "7624caa2-570c-4f1c-c738-657edbbe4029"
      },
      "execution_count": null,
      "outputs": [
        {
          "output_type": "stream",
          "name": "stdout",
          "text": [
            "Before Normalisation: \n",
            "[[0.18645822 0.80758027]\n",
            " [0.74707947 0.67484735]]\n",
            "After normalization:\n",
            "[[0.         1.        ]\n",
            " [0.90259435 0.78630138]]\n"
          ]
        }
      ]
    },
    {
      "cell_type": "code",
      "source": [
        "# How to ignore all numpy warnings (not recommended)?\n",
        "a=np.arange(12).reshape(3,4)\n",
        "\n",
        "arr1 = np.array([3,4,5, 10, 11])\n",
        "arr2 = np.array([2,8,0, 1,100,20])\n",
        "x = np.array([1,2,3,4])\n",
        "print('Before ignoring all warning')\n",
        "np.seterr(all='warn')\n",
        "print(np.geterr())\n",
        "print(np.divide(x, 0))\n"
      ],
      "metadata": {
        "colab": {
          "base_uri": "https://localhost:8080/"
        },
        "id": "Y6msh98LrOwp",
        "outputId": "e270f9e3-d464-4cc0-95d5-b6b77bbb824e"
      },
      "execution_count": null,
      "outputs": [
        {
          "output_type": "stream",
          "name": "stdout",
          "text": [
            "Before ignoring all warning\n",
            "{'divide': 'warn', 'over': 'warn', 'under': 'warn', 'invalid': 'warn'}\n",
            "[inf inf inf inf]\n"
          ]
        },
        {
          "output_type": "stream",
          "name": "stderr",
          "text": [
            "/usr/local/lib/python3.7/dist-packages/ipykernel_launcher.py:10: RuntimeWarning: divide by zero encountered in true_divide\n",
            "  # Remove the CWD from sys.path while we load stuff.\n"
          ]
        }
      ]
    },
    {
      "cell_type": "code",
      "source": [
        "print('After ignoring all warning')\n",
        "np.seterr(all='ignore')\n",
        "print(np.geterr())\n",
        "print(np.divide(x, 0))"
      ],
      "metadata": {
        "colab": {
          "base_uri": "https://localhost:8080/"
        },
        "id": "tiA5JK7QuHLp",
        "outputId": "6d8e5981-2005-4cf0-b330-1cec174a2084"
      },
      "execution_count": null,
      "outputs": [
        {
          "output_type": "stream",
          "name": "stdout",
          "text": [
            "After ignoring all warning\n",
            "{'divide': 'ignore', 'over': 'ignore', 'under': 'ignore', 'invalid': 'ignore'}\n",
            "[inf inf inf inf]\n"
          ]
        }
      ]
    },
    {
      "cell_type": "code",
      "source": [
        "#swap two array\n",
        "a = np.arange(25).reshape(5,5)\n",
        "#Before Swaping\n",
        "print(a)\n",
        "b = a[:1].copy()\n",
        "a[:1] = a[1:2]\n",
        "a[1:2] = b\n",
        "#After Swapping\n",
        "print(a)"
      ],
      "metadata": {
        "colab": {
          "base_uri": "https://localhost:8080/"
        },
        "id": "SWQA1ZGu-IZP",
        "outputId": "15986e31-4526-4525-c7cc-cf7385560f96"
      },
      "execution_count": null,
      "outputs": [
        {
          "output_type": "stream",
          "name": "stdout",
          "text": [
            "[[ 5  6  7  8  9]\n",
            " [ 0  1  2  3  4]\n",
            " [10 11 12 13 14]\n",
            " [15 16 17 18 19]\n",
            " [20 21 22 23 24]]\n"
          ]
        }
      ]
    },
    {
      "cell_type": "code",
      "source": [
        "#Python program to create a random vector of size 10 and sort it.\n",
        "s = np.random.rand(10)\n",
        "s.sort()\n",
        "s"
      ],
      "metadata": {
        "colab": {
          "base_uri": "https://localhost:8080/"
        },
        "id": "U2vX6uZeNjAf",
        "outputId": "f01c0a14-2878-408e-959a-872a20a81091"
      },
      "execution_count": null,
      "outputs": [
        {
          "output_type": "execute_result",
          "data": {
            "text/plain": [
              "array([0.07925702, 0.09333225, 0.23615802, 0.29252677, 0.48595423,\n",
              "       0.6290336 , 0.63403794, 0.73461511, 0.88432014, 0.9584722 ])"
            ]
          },
          "metadata": {},
          "execution_count": 56
        }
      ]
    },
    {
      "cell_type": "code",
      "source": [
        "#Compute bootstrapped 95% confidence intervals for the mean of a 1D array X (i.e., resample the elements of an array with replacement N times, \n",
        "#compute the mean of each sample, and then compute percentiles over the means).\n",
        "original_array = np.array([1,2,3,4,5,6])\n",
        "N = 20\n",
        "i=0\n",
        "while i <= N :\n",
        "      x = np.random.choice(original_array, original_array.size, replace=True)\n",
        "      y = np.mean(x)\n",
        "      p = np.percentile(x,y)\n",
        "      print(p)\n",
        "      i=i+1\n"
      ],
      "metadata": {
        "colab": {
          "base_uri": "https://localhost:8080/"
        },
        "id": "qV8Q9ycmUmFN",
        "outputId": "03fd3ec1-d6e8-4f73-a3c7-efabe553558c"
      },
      "execution_count": null,
      "outputs": [
        {
          "output_type": "stream",
          "name": "stdout",
          "text": [
            "1.175\n",
            "1.0\n",
            "1.1833333333333333\n",
            "1.0\n",
            "1.175\n",
            "1.0\n",
            "3.0000000000000004\n",
            "1.0\n",
            "1.15\n",
            "1.1\n",
            "1.3333333333333335\n",
            "2.2083333333333335\n",
            "4.241666666666666\n",
            "1.4000000000000001\n",
            "1.1916666666666667\n",
            "1.0\n",
            "1.3666666666666667\n",
            "1.0\n",
            "3.0\n",
            "2.166666666666667\n",
            "2.0\n"
          ]
        }
      ]
    },
    {
      "cell_type": "code",
      "source": [
        "#Program to compare two random array are equal or not\n",
        "s = np.random.rand(10)\n",
        "p = np.random.rand(10)\n",
        "s==p"
      ],
      "metadata": {
        "colab": {
          "base_uri": "https://localhost:8080/"
        },
        "id": "7H7HCyX3OC9-",
        "outputId": "aab84cf2-67e6-4942-8eb1-8b132dc250f6"
      },
      "execution_count": null,
      "outputs": [
        {
          "output_type": "execute_result",
          "data": {
            "text/plain": [
              "array([False, False, False, False, False, False, False, False, False,\n",
              "       False])"
            ]
          },
          "metadata": {},
          "execution_count": 57
        }
      ]
    },
    {
      "cell_type": "code",
      "source": [
        "#with 1-D\n",
        "s=np.array([3,1,2])\n",
        "p=np.array([5,4,2])\n",
        "\n",
        "print(np.add(s,p))\n",
        "print(np.subtract(s,p))\n",
        "print(np.multiply(s,p))\n",
        "print(np.divide(s,p))\n",
        "\n",
        "#with 2-D\n",
        "#Addition of two matrices\n",
        "s = np.arange(12).reshape(12,1)\n",
        "p = np.arange(24).reshape(12,2)\n",
        "np.add(s,p)\n",
        "#Subtarction of two matrices element_wise\n",
        "np.subtract(s,p)\n",
        "#Multiplication of two matrices element_wise\n",
        "np.dot(s.reshape(1,12) ,p)\n",
        "#Divide two matrices element_wise\n",
        "np.divide(s,p)\n"
      ],
      "metadata": {
        "colab": {
          "base_uri": "https://localhost:8080/"
        },
        "id": "JAnOeT_TQWkY",
        "outputId": "4e0577c4-22af-49c3-dad1-6edaa2cbb532"
      },
      "execution_count": null,
      "outputs": [
        {
          "output_type": "stream",
          "name": "stdout",
          "text": [
            "[8 5 4]\n",
            "[-2 -3  0]\n",
            "[15  4  4]\n",
            "[0.6  0.25 1.  ]\n"
          ]
        },
        {
          "output_type": "stream",
          "name": "stderr",
          "text": [
            "/usr/local/lib/python3.7/dist-packages/ipykernel_launcher.py:20: RuntimeWarning: invalid value encountered in true_divide\n"
          ]
        },
        {
          "output_type": "execute_result",
          "data": {
            "text/plain": [
              "array([[       nan, 0.        ],\n",
              "       [0.5       , 0.33333333],\n",
              "       [0.5       , 0.4       ],\n",
              "       [0.5       , 0.42857143],\n",
              "       [0.5       , 0.44444444],\n",
              "       [0.5       , 0.45454545],\n",
              "       [0.5       , 0.46153846],\n",
              "       [0.5       , 0.46666667],\n",
              "       [0.5       , 0.47058824],\n",
              "       [0.5       , 0.47368421],\n",
              "       [0.5       , 0.47619048],\n",
              "       [0.5       , 0.47826087]])"
            ]
          },
          "metadata": {},
          "execution_count": 65
        }
      ]
    },
    {
      "cell_type": "code",
      "source": [
        "#Write a Python program to get the dates of yesterday, today and tomorrow.\n",
        "import datetime\n",
        "#Yesterday\n",
        "yesterday = np.datetime64('today') - 1\n",
        "print(yesterday)\n",
        "#Today\n",
        "today = np.datetime64('today')\n",
        "print(today)\n",
        "#Tomorrow\n",
        "tomorrow = np.datetime64('today') + 1\n",
        "print(tomorrow)\n"
      ],
      "metadata": {
        "colab": {
          "base_uri": "https://localhost:8080/"
        },
        "id": "oHH7LqDoScoN",
        "outputId": "fb36e4a8-0c3e-473c-952c-1cf1240838f5"
      },
      "execution_count": null,
      "outputs": [
        {
          "output_type": "stream",
          "name": "stdout",
          "text": [
            "2022-02-04\n",
            "2022-02-05\n",
            "2022-02-06\n"
          ]
        }
      ]
    }
  ]
}