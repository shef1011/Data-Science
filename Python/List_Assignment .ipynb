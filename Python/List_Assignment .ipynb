{
  "nbformat": 4,
  "nbformat_minor": 0,
  "metadata": {
    "colab": {
      "name": "List_Assignment.ipynb",
      "provenance": [],
      "collapsed_sections": []
    },
    "kernelspec": {
      "name": "python3",
      "display_name": "Python 3"
    },
    "language_info": {
      "name": "python"
    }
  },
  "cells": [
    {
      "cell_type": "code",
      "execution_count": null,
      "metadata": {
        "colab": {
          "base_uri": "https://localhost:8080/"
        },
        "id": "b7i3OQSM2pX3",
        "outputId": "d2491628-3eed-4f57-a590-9c6ddea36969"
      },
      "outputs": [
        {
          "output_type": "stream",
          "name": "stdout",
          "text": [
            "Enter comma separated elements: 10, 20, 30, 40\n",
            "100\n"
          ]
        }
      ],
      "source": [
        "#Write a Python program to find the sum of all elements in a list using loop.\n",
        "#Input:- [10,20,30,40]\n",
        "list_1 = [10,20,30,40]\n",
        "total = 0\n",
        "for i in list_1:\n",
        "   total+=i\n",
        "print(total)\n",
        "#Output:- 100\n"
      ]
    },
    {
      "cell_type": "code",
      "source": [
        "#Write a Python program to find the multiplication of all elements in a list using loop.\n",
        "#Input:- [10,20,30,40]\n",
        "list_2 = [10,20,30,40]\n",
        "total = 1\n",
        "for i in list_2:\n",
        "   total*=i\n",
        "print(total) \n",
        "#Output:- 240000"
      ],
      "metadata": {
        "colab": {
          "base_uri": "https://localhost:8080/"
        },
        "id": "4-xYD6Yz48bm",
        "outputId": "78956bdc-1e0d-4670-9bbf-c196e057bc17"
      },
      "execution_count": null,
      "outputs": [
        {
          "output_type": "stream",
          "name": "stdout",
          "text": [
            "240000\n"
          ]
        }
      ]
    },
    {
      "cell_type": "code",
      "source": [
        "#Write a Python program to find the largest number from a list using loop.\n",
        "#Input:- [10,100,2321, 1,200,2]\n",
        "list_3 = [10,100,2321, 1,200,2]\n",
        "max_number = list_3[0]\n",
        "for i in list_3[1:]:\n",
        "   if i > max_number:\n",
        "     max_number=i\n",
        "print(max_number) \n",
        "#Output:- 2321"
      ],
      "metadata": {
        "colab": {
          "base_uri": "https://localhost:8080/"
        },
        "id": "x7uqJpXj5LJy",
        "outputId": "cf433544-71dd-428f-c897-628de5cc4bb8"
      },
      "execution_count": null,
      "outputs": [
        {
          "output_type": "stream",
          "name": "stdout",
          "text": [
            "Enter comma separated elements: 10 , 100 , 2321 , 1 , 200 , 2\n",
            "2321\n"
          ]
        }
      ]
    },
    {
      "cell_type": "code",
      "source": [
        "#Write a Python program to find the smallest number from a list using loop.\n",
        "#Input:- [10,100,2321, 1,200,2]\n",
        "list_4 = [10,100,2321, 1,200,2]\n",
        "min_number = list_4[0]\n",
        "for i in list_4[1:]:\n",
        "   if i < min_number:\n",
        "     min_number=i\n",
        "print(min_number) \n",
        "#Output:- 1"
      ],
      "metadata": {
        "colab": {
          "base_uri": "https://localhost:8080/"
        },
        "id": "XCbH1Gcs5yJL",
        "outputId": "7fbcc594-2ee9-4208-80f5-eb0fdd2e6498"
      },
      "execution_count": null,
      "outputs": [
        {
          "output_type": "stream",
          "name": "stdout",
          "text": [
            "1\n"
          ]
        }
      ]
    },
    {
      "cell_type": "code",
      "source": [
        "#Write a Python program to count the number of strings having length more than 2 and are palindrome in a list using loop.\n",
        "#Input:- ['ab', 'abc', 'aba', 'xyz', '1991']\n",
        "list_5 = ['ab', 'abc', 'aba', 'xyz', '1991']\n",
        "count=0\n",
        "for ele in list_5:\n",
        "  ele = ele.strip()\n",
        "  if len(ele) > 2:\n",
        "     ele1 = ele[::-1]\n",
        "     if ele1 == ele:\n",
        "        count+=1\n",
        "\n",
        "print(count)   \n",
        "#Output:- 2"
      ],
      "metadata": {
        "colab": {
          "base_uri": "https://localhost:8080/"
        },
        "id": "NTyfbUIo5_Hs",
        "outputId": "da6e5189-6f02-44c9-9664-b932dc122bdc"
      },
      "execution_count": null,
      "outputs": [
        {
          "output_type": "stream",
          "name": "stdout",
          "text": [
            "Enter comma separated elements: ab , abc , aba , xyx , 1991\n",
            "3\n"
          ]
        }
      ]
    },
    {
      "cell_type": "code",
      "source": [
        "#Write a Python program to sort a list in ascending order using loop.\n",
        "#Input:- [100,10,1,298,65,483,49876,2,80,9,9213]\n",
        "#Output:- [1,2,9,10,65,80,100,298,483,9213,49876]\n",
        "list_6 = [100,10,1,298,65,483,49876,2,80,9,9213]\n",
        "output = []\n",
        "for i in range(len(list_6)):\n",
        "  j=0\n",
        "  while j<i:\n",
        "   if list_6[i] < list_6[j]:\n",
        "      temp = list_6[j]\n",
        "      list_6[j] = list_6[i]\n",
        "      list_6[i] = temp\n",
        "   j+=1\n",
        "\n",
        "print(list_6)"
      ],
      "metadata": {
        "colab": {
          "base_uri": "https://localhost:8080/"
        },
        "id": "0ihmx5ZJ7ffc",
        "outputId": "2e022180-33f8-48a8-e20f-6463fb947f34"
      },
      "execution_count": null,
      "outputs": [
        {
          "output_type": "stream",
          "name": "stdout",
          "text": [
            "Enter comma separated elements: 100,10,1,298,65,483,49876, 2, 80, 9, 9213\n",
            "[1, 2, 9, 10, 65, 80, 100, 298, 483, 9213, 49876]\n"
          ]
        }
      ]
    },
    {
      "cell_type": "code",
      "source": [
        "#Write a Python program to get a sorted list in increasing order of last element in each tuple in a given list using loop.\n",
        "#Input:- [(5,4),(9,1),(2,3),(5,9),(7,6),(5,5)]\n",
        "list_7 = [(5,4),(9,1),(2,3),(5,9),(7,6),(5,5)]\n",
        "for i in range(len(list_7)):\n",
        "  j=0\n",
        "  while j<i:\n",
        "   if list_7[i][1] < list_7[j][1]:\n",
        "      temp = list_7[j]\n",
        "      list_7[j] = list_7[i]\n",
        "      list_7[i] = temp\n",
        "   j+=1\n",
        "\n",
        "print(list_7)\n",
        "  \n",
        "#output:- [(9,1),(2,3),(5,4),(5,5),(7,6),(5,9)]\n"
      ],
      "metadata": {
        "id": "M7IES_6UBQQj",
        "colab": {
          "base_uri": "https://localhost:8080/"
        },
        "outputId": "84418359-2364-404b-8dce-0bcce2e44fe8"
      },
      "execution_count": null,
      "outputs": [
        {
          "output_type": "stream",
          "name": "stdout",
          "text": [
            "[(9, 1), (2, 3), (5, 4), (5, 5), (7, 6), (5, 9)]\n"
          ]
        }
      ]
    },
    {
      "cell_type": "code",
      "source": [
        "#Write a Python program to remove fuplicate element from a list using loop.\n",
        "#Input:- [10,1,11,1,29,876,768,10,11,1,92,29,876]\n",
        "list_8 = [10,1,11,1,29,876,768,10,11,1,92,29,876]\n",
        "out=[]\n",
        "for ele in list_8:\n",
        "   if ele not in out:\n",
        "     out.append(ele)\n",
        "print(out)\n",
        "#Output:- [10,1,11,29,876,768,92]"
      ],
      "metadata": {
        "colab": {
          "base_uri": "https://localhost:8080/"
        },
        "id": "LkU8RStyBq-j",
        "outputId": "a5db3828-7d82-4b96-ba83-480f06b8fa8e"
      },
      "execution_count": null,
      "outputs": [
        {
          "output_type": "stream",
          "name": "stdout",
          "text": [
            "Enter comma separated elements: 10,1,11,1,29,876,768,10,11,1,92,29,876\n",
            "[10, 1, 11, 29, 876, 768, 92]\n"
          ]
        }
      ]
    },
    {
      "cell_type": "code",
      "source": [
        "#Write a Python program to check a list is empty or not?\n",
        "#Input:- []\n",
        "#Output:- List is empty\n",
        "#Input:- [10,20,30]\n",
        "#Output:- List is not empty\n",
        "list_9 = [items for items in input('Enter comma separated elements: ').split(',')]\n",
        "if len(list_9) > 0  and '' not in list_9 :\n",
        "   print('List is not empty')\n",
        "else:\n",
        "    print('List is empty')"
      ],
      "metadata": {
        "id": "stDgjl-HDFXn",
        "colab": {
          "base_uri": "https://localhost:8080/"
        },
        "outputId": "adf62398-f3d3-4097-e05a-69b52b4668eb"
      },
      "execution_count": null,
      "outputs": [
        {
          "output_type": "stream",
          "name": "stdout",
          "text": [
            "Enter comma separated elements: 10, \n",
            "List is not empty\n"
          ]
        }
      ]
    },
    {
      "cell_type": "code",
      "source": [
        "#Write a Python program to copy a list using loop.\n",
        "#inp_lst = [10,10.20,10+20j, 'Python', [10,20], (10,20)]\n",
        "inp_lst =[10,10.20,10+20j, 'Python', [10,20], (10,20)]\n",
        "out_lst = []\n",
        "for items in inp_lst:\n",
        "    out_lst.append(items)\n",
        "print(out_lst)\n",
        "#out_lst = [10,10.20,10+20j, 'Python', [10,20], (10,20)]"
      ],
      "metadata": {
        "id": "_7KTJCvkDS8K",
        "colab": {
          "base_uri": "https://localhost:8080/"
        },
        "outputId": "dda3ec64-f0fb-446d-9197-5b73b293fd28"
      },
      "execution_count": null,
      "outputs": [
        {
          "output_type": "stream",
          "name": "stdout",
          "text": [
            "[10, 10.2, (10+20j), 'Python', [10, 20], (10, 20)]\n"
          ]
        }
      ]
    },
    {
      "cell_type": "code",
      "source": [
        "#Write a Python program to find the list of words that are longer than or equal to 4 from a given string.\n",
        "#Input:- 'How much wood would a woodchuck chuck if a woodchuck could chuck wood'\n",
        "str_1 = 'How much wood would a woodchuck chuck if a woodchuck could chuck wood'\n",
        "out = []\n",
        "for elements in str_1.split():\n",
        "    if len(elements) >=4 and elements not in out:\n",
        "       out.append(elements)\n",
        "print(out)\n",
        "#Output:- ['much', 'wood', 'would', 'woodchuck', 'chuck', 'could']\n",
        "#Note:- Duplicate should be avoided."
      ],
      "metadata": {
        "colab": {
          "base_uri": "https://localhost:8080/"
        },
        "id": "165ln7DQDW-H",
        "outputId": "81843a96-07ab-46da-b293-d95a0f915b99"
      },
      "execution_count": null,
      "outputs": [
        {
          "output_type": "stream",
          "name": "stdout",
          "text": [
            "['much', 'wood', 'would', 'woodchuck', 'chuck', 'could']\n"
          ]
        }
      ]
    },
    {
      "cell_type": "code",
      "source": [
        "#Write a Python program which takes two list as input and returns True if they have at least 3 common elements.\n",
        "#Output:- True\n",
        "def check_common(inp_lst1, inp_lst2):\n",
        "    count = 0\n",
        "    for lis1_ele in inp_lst1[:]:\n",
        "        if count>=3:\n",
        "          return 'True'\n",
        "        if lis1_ele in inp_lst2:\n",
        "            count +=1\n",
        "\n",
        "inp_lst1 = [10,20,'Python', 10.20, 10+20j, [10,20,30], (10,20,30)]\n",
        "inp_lst2 = [(10,20,30),1,20+3j,100.2, 10+20j, [10,20,30],'Python']\n",
        "print(check_common(inp_lst1, inp_lst2))"
      ],
      "metadata": {
        "id": "OC6Gic2xDk4l",
        "colab": {
          "base_uri": "https://localhost:8080/"
        },
        "outputId": "b748b063-30e6-4cb9-fe18-7ae59935b6e9"
      },
      "execution_count": null,
      "outputs": [
        {
          "output_type": "stream",
          "name": "stdout",
          "text": [
            "True\n"
          ]
        }
      ]
    },
    {
      "cell_type": "code",
      "source": [
        "#Write a Python program to create a 4X4 2D matrix with below elements using loop and list comprehension both.\n",
        "#Output:- [[0,0,0,0],[0,1,2,3],[0,2,4,6],[0,3,6,9]]\n",
        "print(\"Using loop\")\n",
        "out=[]\n",
        "for i in range(4):\n",
        "    for j in range(4):\n",
        "       li.append(j * i)\n",
        "    out.append(li)\n",
        "    li=[]\n",
        "print(out)\n",
        "\n",
        "print(\"Using List Comphrehension\")\n",
        "out = [[j *i  for j in range(4)] for i in range(4)]\n",
        "print(out)"
      ],
      "metadata": {
        "colab": {
          "base_uri": "https://localhost:8080/"
        },
        "id": "kv5OyIbVDld5",
        "outputId": "f3b47ffe-9a18-4485-d7e9-4befe4a7670d"
      },
      "execution_count": null,
      "outputs": [
        {
          "output_type": "stream",
          "name": "stdout",
          "text": [
            "Using loop\n",
            "[[0, 0, 0, 0], [0, 1, 2, 3], [0, 2, 4, 6], [0, 3, 6, 9]]\n",
            "Using List Comphrehension\n",
            "[[0, 0, 0, 0], [0, 1, 2, 3], [0, 2, 4, 6], [0, 3, 6, 9]]\n"
          ]
        }
      ]
    },
    {
      "cell_type": "code",
      "source": [
        "#Write a Python program to create a 3X4X6 3D matrix wiith below elements using loop\n",
        "out=[]\n",
        "for i in range(3):\n",
        "    li=[]\n",
        "    for j in range(4):\n",
        "       li.append([i * j] * 6)\n",
        "    out.append(li)\n",
        "    \n",
        "print(out)\n",
        "#Output:- \n",
        "# [\n",
        "#     [[0,0,0,0,0,0],[0,0,0,0,0,0],[0,0,0,0,0,0],[0,0,0,0,0,0]],\n",
        "#     [[0,0,0,0,0,0],[1,1,1,1,1,1],[2,2,2,2,2,2],[3,3,3,3,3,3]],\n",
        "#     [[0,0,0,0,0,0],[2,2,2,2,2,2],[4,4,4,4,4,4],[6,6,6,6,6,6]]\n",
        "# ]\n"
      ],
      "metadata": {
        "colab": {
          "base_uri": "https://localhost:8080/"
        },
        "id": "UqqSjAcoD4ED",
        "outputId": "86520f95-2ebc-4910-e10f-5966a6845f3b"
      },
      "execution_count": null,
      "outputs": [
        {
          "output_type": "stream",
          "name": "stdout",
          "text": [
            "[[[0, 0, 0, 0, 0, 0], [0, 0, 0, 0, 0, 0], [0, 0, 0, 0, 0, 0], [0, 0, 0, 0, 0, 0]], [[0, 0, 0, 0, 0, 0], [1, 1, 1, 1, 1, 1], [2, 2, 2, 2, 2, 2], [3, 3, 3, 3, 3, 3]], [[0, 0, 0, 0, 0, 0], [2, 2, 2, 2, 2, 2], [4, 4, 4, 4, 4, 4], [6, 6, 6, 6, 6, 6]]]\n"
          ]
        }
      ]
    },
    {
      "cell_type": "code",
      "source": [
        "#Write a Python program which takes a list of numbers as input and prints a new list after removing even numbers from it.\n",
        "#Input:- [10,21,22,98,87,45,33,1,2,100]\n",
        "list_12 = [10,21,22,98,87,45,33,1,2,100]\n",
        "out=[]\n",
        "for ele in list_12:\n",
        "    if ele % 2 != 0:\n",
        "       out.append(ele)\n",
        "print(out)\n",
        "#Output:- [21,87,45,33,1]"
      ],
      "metadata": {
        "colab": {
          "base_uri": "https://localhost:8080/"
        },
        "id": "PsNMHSCvEhED",
        "outputId": "fc454e93-93ed-4440-c028-40b6f5abd81e"
      },
      "execution_count": null,
      "outputs": [
        {
          "output_type": "stream",
          "name": "stdout",
          "text": [
            "Enter comma separated elements: 10,21,22,98,87,45,33,1,2,100\n",
            "[21, 87, 45, 33, 1]\n"
          ]
        }
      ]
    },
    {
      "cell_type": "code",
      "source": [
        "#Write a Python program which takes a list from the user and prints it after reshuffling the elements of the list.\n",
        "#Input:- [10,21,22,98,87,45,33,1,2,100]\n",
        "input_list = [int(i) for i in input().split(',')]\n",
        "#Without Using dictionary\n",
        "random_index = int(len(input_list)/2)\n",
        "out = []\n",
        "for i in range(1, len(input_list)+1):\n",
        "    out.append(input_list[random_index - i])\n",
        "print(out)\n",
        "\n",
        "#Using Dictionary\n",
        "d = {}\n",
        "for i in range(len(input_list)):\n",
        "    d.update({i: input_list[i]})\n",
        "print([values for values in d.values()])\n",
        "    \n",
        "#Output:- [1,87,21,10,33,2,100,45,98,22] (It may be any randon list but with same elements)"
      ],
      "metadata": {
        "id": "LuIAnDbiFPDR",
        "colab": {
          "base_uri": "https://localhost:8080/"
        },
        "outputId": "c7853363-6d6a-48c1-f364-b7d27b9e446f"
      },
      "execution_count": null,
      "outputs": [
        {
          "output_type": "stream",
          "name": "stdout",
          "text": [
            "10,21,22,98,87,45,33,1,2,100\n",
            "[87, 98, 22, 21, 10, 100, 2, 1, 33, 45]\n",
            "[10, 21, 22, 98, 87, 45, 33, 1, 2, 100]\n"
          ]
        }
      ]
    }
  ]
}