{
  "cells": [
    {
      "cell_type": "markdown",
      "metadata": {
        "id": "TBWa83TPeE6d"
      },
      "source": [
        "**Import Libraries**"
      ]
    },
    {
      "cell_type": "code",
      "execution_count": 187,
      "metadata": {
        "id": "oOChbg5Sd8Lu"
      },
      "outputs": [],
      "source": [
        "# Let's import our libraries\n",
        "import numpy as np\n",
        "import pandas as pd\n",
        "import seaborn as sns\n",
        "import matplotlib.pyplot as plt"
      ]
    },
    {
      "cell_type": "code",
      "execution_count": 188,
      "metadata": {
        "id": "jxFrsOp9eREj"
      },
      "outputs": [],
      "source": [
        "# Since we are going to mae lot of visualization, let's set some visualization parameters in order to have same plots size\n",
        "plt.rcParams['figure.figsize'] = [12,6]\n",
        "sns.set_style('darkgrid')"
      ]
    },
    {
      "cell_type": "code",
      "execution_count": 189,
      "metadata": {
        "id": "Fjys2Xzweoy1"
      },
      "outputs": [],
      "source": [
        "house_data = pd.read_csv('/content/Maison.csv')"
      ]
    },
    {
      "cell_type": "code",
      "execution_count": 190,
      "metadata": {
        "colab": {
          "base_uri": "https://localhost:8080/",
          "height": 206
        },
        "id": "h5UFs4I4fmdD",
        "outputId": "0805e61b-572f-4ce8-b319-7b854dc6931c"
      },
      "outputs": [
        {
          "output_type": "execute_result",
          "data": {
            "text/plain": [
              "    PRIX  SUPERFICIE  CHAMBRES  SDB  ETAGES  ALLEE  SALLEJEU  CAVE  GAZ  AIR  \\\n",
              "0  42000        5850         3    1       2      1         0     1    0    0   \n",
              "1  38500        4000         2    1       1      1         0     0    0    0   \n",
              "2  49500        3060         3    1       1      1         0     0    0    0   \n",
              "3  60500        6650         3    1       2      1         1     0    0    0   \n",
              "4  61000        6360         2    1       1      1         0     0    0    0   \n",
              "\n",
              "   GARAGES  SITUATION  \n",
              "0        1          0  \n",
              "1        0          0  \n",
              "2        0          0  \n",
              "3        0          0  \n",
              "4        0          0  "
            ],
            "text/html": [
              "\n",
              "  <div id=\"df-e9fcd944-b1c6-475a-8b06-60bcc0d445ce\">\n",
              "    <div class=\"colab-df-container\">\n",
              "      <div>\n",
              "<style scoped>\n",
              "    .dataframe tbody tr th:only-of-type {\n",
              "        vertical-align: middle;\n",
              "    }\n",
              "\n",
              "    .dataframe tbody tr th {\n",
              "        vertical-align: top;\n",
              "    }\n",
              "\n",
              "    .dataframe thead th {\n",
              "        text-align: right;\n",
              "    }\n",
              "</style>\n",
              "<table border=\"1\" class=\"dataframe\">\n",
              "  <thead>\n",
              "    <tr style=\"text-align: right;\">\n",
              "      <th></th>\n",
              "      <th>PRIX</th>\n",
              "      <th>SUPERFICIE</th>\n",
              "      <th>CHAMBRES</th>\n",
              "      <th>SDB</th>\n",
              "      <th>ETAGES</th>\n",
              "      <th>ALLEE</th>\n",
              "      <th>SALLEJEU</th>\n",
              "      <th>CAVE</th>\n",
              "      <th>GAZ</th>\n",
              "      <th>AIR</th>\n",
              "      <th>GARAGES</th>\n",
              "      <th>SITUATION</th>\n",
              "    </tr>\n",
              "  </thead>\n",
              "  <tbody>\n",
              "    <tr>\n",
              "      <th>0</th>\n",
              "      <td>42000</td>\n",
              "      <td>5850</td>\n",
              "      <td>3</td>\n",
              "      <td>1</td>\n",
              "      <td>2</td>\n",
              "      <td>1</td>\n",
              "      <td>0</td>\n",
              "      <td>1</td>\n",
              "      <td>0</td>\n",
              "      <td>0</td>\n",
              "      <td>1</td>\n",
              "      <td>0</td>\n",
              "    </tr>\n",
              "    <tr>\n",
              "      <th>1</th>\n",
              "      <td>38500</td>\n",
              "      <td>4000</td>\n",
              "      <td>2</td>\n",
              "      <td>1</td>\n",
              "      <td>1</td>\n",
              "      <td>1</td>\n",
              "      <td>0</td>\n",
              "      <td>0</td>\n",
              "      <td>0</td>\n",
              "      <td>0</td>\n",
              "      <td>0</td>\n",
              "      <td>0</td>\n",
              "    </tr>\n",
              "    <tr>\n",
              "      <th>2</th>\n",
              "      <td>49500</td>\n",
              "      <td>3060</td>\n",
              "      <td>3</td>\n",
              "      <td>1</td>\n",
              "      <td>1</td>\n",
              "      <td>1</td>\n",
              "      <td>0</td>\n",
              "      <td>0</td>\n",
              "      <td>0</td>\n",
              "      <td>0</td>\n",
              "      <td>0</td>\n",
              "      <td>0</td>\n",
              "    </tr>\n",
              "    <tr>\n",
              "      <th>3</th>\n",
              "      <td>60500</td>\n",
              "      <td>6650</td>\n",
              "      <td>3</td>\n",
              "      <td>1</td>\n",
              "      <td>2</td>\n",
              "      <td>1</td>\n",
              "      <td>1</td>\n",
              "      <td>0</td>\n",
              "      <td>0</td>\n",
              "      <td>0</td>\n",
              "      <td>0</td>\n",
              "      <td>0</td>\n",
              "    </tr>\n",
              "    <tr>\n",
              "      <th>4</th>\n",
              "      <td>61000</td>\n",
              "      <td>6360</td>\n",
              "      <td>2</td>\n",
              "      <td>1</td>\n",
              "      <td>1</td>\n",
              "      <td>1</td>\n",
              "      <td>0</td>\n",
              "      <td>0</td>\n",
              "      <td>0</td>\n",
              "      <td>0</td>\n",
              "      <td>0</td>\n",
              "      <td>0</td>\n",
              "    </tr>\n",
              "  </tbody>\n",
              "</table>\n",
              "</div>\n",
              "      <button class=\"colab-df-convert\" onclick=\"convertToInteractive('df-e9fcd944-b1c6-475a-8b06-60bcc0d445ce')\"\n",
              "              title=\"Convert this dataframe to an interactive table.\"\n",
              "              style=\"display:none;\">\n",
              "        \n",
              "  <svg xmlns=\"http://www.w3.org/2000/svg\" height=\"24px\"viewBox=\"0 0 24 24\"\n",
              "       width=\"24px\">\n",
              "    <path d=\"M0 0h24v24H0V0z\" fill=\"none\"/>\n",
              "    <path d=\"M18.56 5.44l.94 2.06.94-2.06 2.06-.94-2.06-.94-.94-2.06-.94 2.06-2.06.94zm-11 1L8.5 8.5l.94-2.06 2.06-.94-2.06-.94L8.5 2.5l-.94 2.06-2.06.94zm10 10l.94 2.06.94-2.06 2.06-.94-2.06-.94-.94-2.06-.94 2.06-2.06.94z\"/><path d=\"M17.41 7.96l-1.37-1.37c-.4-.4-.92-.59-1.43-.59-.52 0-1.04.2-1.43.59L10.3 9.45l-7.72 7.72c-.78.78-.78 2.05 0 2.83L4 21.41c.39.39.9.59 1.41.59.51 0 1.02-.2 1.41-.59l7.78-7.78 2.81-2.81c.8-.78.8-2.07 0-2.86zM5.41 20L4 18.59l7.72-7.72 1.47 1.35L5.41 20z\"/>\n",
              "  </svg>\n",
              "      </button>\n",
              "      \n",
              "  <style>\n",
              "    .colab-df-container {\n",
              "      display:flex;\n",
              "      flex-wrap:wrap;\n",
              "      gap: 12px;\n",
              "    }\n",
              "\n",
              "    .colab-df-convert {\n",
              "      background-color: #E8F0FE;\n",
              "      border: none;\n",
              "      border-radius: 50%;\n",
              "      cursor: pointer;\n",
              "      display: none;\n",
              "      fill: #1967D2;\n",
              "      height: 32px;\n",
              "      padding: 0 0 0 0;\n",
              "      width: 32px;\n",
              "    }\n",
              "\n",
              "    .colab-df-convert:hover {\n",
              "      background-color: #E2EBFA;\n",
              "      box-shadow: 0px 1px 2px rgba(60, 64, 67, 0.3), 0px 1px 3px 1px rgba(60, 64, 67, 0.15);\n",
              "      fill: #174EA6;\n",
              "    }\n",
              "\n",
              "    [theme=dark] .colab-df-convert {\n",
              "      background-color: #3B4455;\n",
              "      fill: #D2E3FC;\n",
              "    }\n",
              "\n",
              "    [theme=dark] .colab-df-convert:hover {\n",
              "      background-color: #434B5C;\n",
              "      box-shadow: 0px 1px 3px 1px rgba(0, 0, 0, 0.15);\n",
              "      filter: drop-shadow(0px 1px 2px rgba(0, 0, 0, 0.3));\n",
              "      fill: #FFFFFF;\n",
              "    }\n",
              "  </style>\n",
              "\n",
              "      <script>\n",
              "        const buttonEl =\n",
              "          document.querySelector('#df-e9fcd944-b1c6-475a-8b06-60bcc0d445ce button.colab-df-convert');\n",
              "        buttonEl.style.display =\n",
              "          google.colab.kernel.accessAllowed ? 'block' : 'none';\n",
              "\n",
              "        async function convertToInteractive(key) {\n",
              "          const element = document.querySelector('#df-e9fcd944-b1c6-475a-8b06-60bcc0d445ce');\n",
              "          const dataTable =\n",
              "            await google.colab.kernel.invokeFunction('convertToInteractive',\n",
              "                                                     [key], {});\n",
              "          if (!dataTable) return;\n",
              "\n",
              "          const docLinkHtml = 'Like what you see? Visit the ' +\n",
              "            '<a target=\"_blank\" href=https://colab.research.google.com/notebooks/data_table.ipynb>data table notebook</a>'\n",
              "            + ' to learn more about interactive tables.';\n",
              "          element.innerHTML = '';\n",
              "          dataTable['output_type'] = 'display_data';\n",
              "          await google.colab.output.renderOutput(dataTable, element);\n",
              "          const docLink = document.createElement('div');\n",
              "          docLink.innerHTML = docLinkHtml;\n",
              "          element.appendChild(docLink);\n",
              "        }\n",
              "      </script>\n",
              "    </div>\n",
              "  </div>\n",
              "  "
            ]
          },
          "metadata": {},
          "execution_count": 190
        }
      ],
      "source": [
        "house_data.head()"
      ]
    },
    {
      "cell_type": "markdown",
      "metadata": {
        "id": "AuRaFc16f1wg"
      },
      "source": [
        "**Data Transformation and Analysis**"
      ]
    },
    {
      "cell_type": "code",
      "execution_count": 191,
      "metadata": {
        "id": "IpcnFyF0f5c7",
        "colab": {
          "base_uri": "https://localhost:8080/",
          "height": 300
        },
        "outputId": "5d753ec3-e2df-4589-deba-cb4a974e8f81"
      },
      "outputs": [
        {
          "output_type": "execute_result",
          "data": {
            "text/plain": [
              "               price          area       rooms    bathroom      floors  \\\n",
              "count     546.000000    546.000000  546.000000  546.000000  546.000000   \n",
              "mean    68121.597070   5150.265568    2.965201    1.285714    1.807692   \n",
              "std     26702.670926   2168.158725    0.737388    0.502158    0.868203   \n",
              "min     25000.000000   1650.000000    1.000000    1.000000    1.000000   \n",
              "25%     49125.000000   3600.000000    2.000000    1.000000    1.000000   \n",
              "50%     62000.000000   4600.000000    3.000000    1.000000    2.000000   \n",
              "75%     82000.000000   6360.000000    3.000000    2.000000    2.000000   \n",
              "max    190000.000000  16200.000000    6.000000    4.000000    4.000000   \n",
              "\n",
              "         driveway   game_room      cellar         gas         air      garage  \\\n",
              "count  546.000000  546.000000  546.000000  546.000000  546.000000  546.000000   \n",
              "mean     0.858974    0.177656    0.349817    0.045788    0.316850    0.692308   \n",
              "std      0.348367    0.382573    0.477349    0.209216    0.465675    0.861307   \n",
              "min      0.000000    0.000000    0.000000    0.000000    0.000000    0.000000   \n",
              "25%      1.000000    0.000000    0.000000    0.000000    0.000000    0.000000   \n",
              "50%      1.000000    0.000000    0.000000    0.000000    0.000000    0.000000   \n",
              "75%      1.000000    0.000000    1.000000    0.000000    1.000000    1.000000   \n",
              "max      1.000000    1.000000    1.000000    1.000000    1.000000    3.000000   \n",
              "\n",
              "        situation  \n",
              "count  546.000000  \n",
              "mean     0.234432  \n",
              "std      0.424032  \n",
              "min      0.000000  \n",
              "25%      0.000000  \n",
              "50%      0.000000  \n",
              "75%      0.000000  \n",
              "max      1.000000  "
            ],
            "text/html": [
              "\n",
              "  <div id=\"df-9e68045c-0c20-43e2-bd1f-531d6ec4902c\">\n",
              "    <div class=\"colab-df-container\">\n",
              "      <div>\n",
              "<style scoped>\n",
              "    .dataframe tbody tr th:only-of-type {\n",
              "        vertical-align: middle;\n",
              "    }\n",
              "\n",
              "    .dataframe tbody tr th {\n",
              "        vertical-align: top;\n",
              "    }\n",
              "\n",
              "    .dataframe thead th {\n",
              "        text-align: right;\n",
              "    }\n",
              "</style>\n",
              "<table border=\"1\" class=\"dataframe\">\n",
              "  <thead>\n",
              "    <tr style=\"text-align: right;\">\n",
              "      <th></th>\n",
              "      <th>price</th>\n",
              "      <th>area</th>\n",
              "      <th>rooms</th>\n",
              "      <th>bathroom</th>\n",
              "      <th>floors</th>\n",
              "      <th>driveway</th>\n",
              "      <th>game_room</th>\n",
              "      <th>cellar</th>\n",
              "      <th>gas</th>\n",
              "      <th>air</th>\n",
              "      <th>garage</th>\n",
              "      <th>situation</th>\n",
              "    </tr>\n",
              "  </thead>\n",
              "  <tbody>\n",
              "    <tr>\n",
              "      <th>count</th>\n",
              "      <td>546.000000</td>\n",
              "      <td>546.000000</td>\n",
              "      <td>546.000000</td>\n",
              "      <td>546.000000</td>\n",
              "      <td>546.000000</td>\n",
              "      <td>546.000000</td>\n",
              "      <td>546.000000</td>\n",
              "      <td>546.000000</td>\n",
              "      <td>546.000000</td>\n",
              "      <td>546.000000</td>\n",
              "      <td>546.000000</td>\n",
              "      <td>546.000000</td>\n",
              "    </tr>\n",
              "    <tr>\n",
              "      <th>mean</th>\n",
              "      <td>68121.597070</td>\n",
              "      <td>5150.265568</td>\n",
              "      <td>2.965201</td>\n",
              "      <td>1.285714</td>\n",
              "      <td>1.807692</td>\n",
              "      <td>0.858974</td>\n",
              "      <td>0.177656</td>\n",
              "      <td>0.349817</td>\n",
              "      <td>0.045788</td>\n",
              "      <td>0.316850</td>\n",
              "      <td>0.692308</td>\n",
              "      <td>0.234432</td>\n",
              "    </tr>\n",
              "    <tr>\n",
              "      <th>std</th>\n",
              "      <td>26702.670926</td>\n",
              "      <td>2168.158725</td>\n",
              "      <td>0.737388</td>\n",
              "      <td>0.502158</td>\n",
              "      <td>0.868203</td>\n",
              "      <td>0.348367</td>\n",
              "      <td>0.382573</td>\n",
              "      <td>0.477349</td>\n",
              "      <td>0.209216</td>\n",
              "      <td>0.465675</td>\n",
              "      <td>0.861307</td>\n",
              "      <td>0.424032</td>\n",
              "    </tr>\n",
              "    <tr>\n",
              "      <th>min</th>\n",
              "      <td>25000.000000</td>\n",
              "      <td>1650.000000</td>\n",
              "      <td>1.000000</td>\n",
              "      <td>1.000000</td>\n",
              "      <td>1.000000</td>\n",
              "      <td>0.000000</td>\n",
              "      <td>0.000000</td>\n",
              "      <td>0.000000</td>\n",
              "      <td>0.000000</td>\n",
              "      <td>0.000000</td>\n",
              "      <td>0.000000</td>\n",
              "      <td>0.000000</td>\n",
              "    </tr>\n",
              "    <tr>\n",
              "      <th>25%</th>\n",
              "      <td>49125.000000</td>\n",
              "      <td>3600.000000</td>\n",
              "      <td>2.000000</td>\n",
              "      <td>1.000000</td>\n",
              "      <td>1.000000</td>\n",
              "      <td>1.000000</td>\n",
              "      <td>0.000000</td>\n",
              "      <td>0.000000</td>\n",
              "      <td>0.000000</td>\n",
              "      <td>0.000000</td>\n",
              "      <td>0.000000</td>\n",
              "      <td>0.000000</td>\n",
              "    </tr>\n",
              "    <tr>\n",
              "      <th>50%</th>\n",
              "      <td>62000.000000</td>\n",
              "      <td>4600.000000</td>\n",
              "      <td>3.000000</td>\n",
              "      <td>1.000000</td>\n",
              "      <td>2.000000</td>\n",
              "      <td>1.000000</td>\n",
              "      <td>0.000000</td>\n",
              "      <td>0.000000</td>\n",
              "      <td>0.000000</td>\n",
              "      <td>0.000000</td>\n",
              "      <td>0.000000</td>\n",
              "      <td>0.000000</td>\n",
              "    </tr>\n",
              "    <tr>\n",
              "      <th>75%</th>\n",
              "      <td>82000.000000</td>\n",
              "      <td>6360.000000</td>\n",
              "      <td>3.000000</td>\n",
              "      <td>2.000000</td>\n",
              "      <td>2.000000</td>\n",
              "      <td>1.000000</td>\n",
              "      <td>0.000000</td>\n",
              "      <td>1.000000</td>\n",
              "      <td>0.000000</td>\n",
              "      <td>1.000000</td>\n",
              "      <td>1.000000</td>\n",
              "      <td>0.000000</td>\n",
              "    </tr>\n",
              "    <tr>\n",
              "      <th>max</th>\n",
              "      <td>190000.000000</td>\n",
              "      <td>16200.000000</td>\n",
              "      <td>6.000000</td>\n",
              "      <td>4.000000</td>\n",
              "      <td>4.000000</td>\n",
              "      <td>1.000000</td>\n",
              "      <td>1.000000</td>\n",
              "      <td>1.000000</td>\n",
              "      <td>1.000000</td>\n",
              "      <td>1.000000</td>\n",
              "      <td>3.000000</td>\n",
              "      <td>1.000000</td>\n",
              "    </tr>\n",
              "  </tbody>\n",
              "</table>\n",
              "</div>\n",
              "      <button class=\"colab-df-convert\" onclick=\"convertToInteractive('df-9e68045c-0c20-43e2-bd1f-531d6ec4902c')\"\n",
              "              title=\"Convert this dataframe to an interactive table.\"\n",
              "              style=\"display:none;\">\n",
              "        \n",
              "  <svg xmlns=\"http://www.w3.org/2000/svg\" height=\"24px\"viewBox=\"0 0 24 24\"\n",
              "       width=\"24px\">\n",
              "    <path d=\"M0 0h24v24H0V0z\" fill=\"none\"/>\n",
              "    <path d=\"M18.56 5.44l.94 2.06.94-2.06 2.06-.94-2.06-.94-.94-2.06-.94 2.06-2.06.94zm-11 1L8.5 8.5l.94-2.06 2.06-.94-2.06-.94L8.5 2.5l-.94 2.06-2.06.94zm10 10l.94 2.06.94-2.06 2.06-.94-2.06-.94-.94-2.06-.94 2.06-2.06.94z\"/><path d=\"M17.41 7.96l-1.37-1.37c-.4-.4-.92-.59-1.43-.59-.52 0-1.04.2-1.43.59L10.3 9.45l-7.72 7.72c-.78.78-.78 2.05 0 2.83L4 21.41c.39.39.9.59 1.41.59.51 0 1.02-.2 1.41-.59l7.78-7.78 2.81-2.81c.8-.78.8-2.07 0-2.86zM5.41 20L4 18.59l7.72-7.72 1.47 1.35L5.41 20z\"/>\n",
              "  </svg>\n",
              "      </button>\n",
              "      \n",
              "  <style>\n",
              "    .colab-df-container {\n",
              "      display:flex;\n",
              "      flex-wrap:wrap;\n",
              "      gap: 12px;\n",
              "    }\n",
              "\n",
              "    .colab-df-convert {\n",
              "      background-color: #E8F0FE;\n",
              "      border: none;\n",
              "      border-radius: 50%;\n",
              "      cursor: pointer;\n",
              "      display: none;\n",
              "      fill: #1967D2;\n",
              "      height: 32px;\n",
              "      padding: 0 0 0 0;\n",
              "      width: 32px;\n",
              "    }\n",
              "\n",
              "    .colab-df-convert:hover {\n",
              "      background-color: #E2EBFA;\n",
              "      box-shadow: 0px 1px 2px rgba(60, 64, 67, 0.3), 0px 1px 3px 1px rgba(60, 64, 67, 0.15);\n",
              "      fill: #174EA6;\n",
              "    }\n",
              "\n",
              "    [theme=dark] .colab-df-convert {\n",
              "      background-color: #3B4455;\n",
              "      fill: #D2E3FC;\n",
              "    }\n",
              "\n",
              "    [theme=dark] .colab-df-convert:hover {\n",
              "      background-color: #434B5C;\n",
              "      box-shadow: 0px 1px 3px 1px rgba(0, 0, 0, 0.15);\n",
              "      filter: drop-shadow(0px 1px 2px rgba(0, 0, 0, 0.3));\n",
              "      fill: #FFFFFF;\n",
              "    }\n",
              "  </style>\n",
              "\n",
              "      <script>\n",
              "        const buttonEl =\n",
              "          document.querySelector('#df-9e68045c-0c20-43e2-bd1f-531d6ec4902c button.colab-df-convert');\n",
              "        buttonEl.style.display =\n",
              "          google.colab.kernel.accessAllowed ? 'block' : 'none';\n",
              "\n",
              "        async function convertToInteractive(key) {\n",
              "          const element = document.querySelector('#df-9e68045c-0c20-43e2-bd1f-531d6ec4902c');\n",
              "          const dataTable =\n",
              "            await google.colab.kernel.invokeFunction('convertToInteractive',\n",
              "                                                     [key], {});\n",
              "          if (!dataTable) return;\n",
              "\n",
              "          const docLinkHtml = 'Like what you see? Visit the ' +\n",
              "            '<a target=\"_blank\" href=https://colab.research.google.com/notebooks/data_table.ipynb>data table notebook</a>'\n",
              "            + ' to learn more about interactive tables.';\n",
              "          element.innerHTML = '';\n",
              "          dataTable['output_type'] = 'display_data';\n",
              "          await google.colab.output.renderOutput(dataTable, element);\n",
              "          const docLink = document.createElement('div');\n",
              "          docLink.innerHTML = docLinkHtml;\n",
              "          element.appendChild(docLink);\n",
              "        }\n",
              "      </script>\n",
              "    </div>\n",
              "  </div>\n",
              "  "
            ]
          },
          "metadata": {},
          "execution_count": 191
        }
      ],
      "source": [
        "# Since the columns are in french, in order to make them more readable, let's translate them into English\n",
        "house_data = house_data.rename(index = str, columns = {'PRIX':'price','SUPERFICIE': 'area','CHAMBRES': 'rooms', \n",
        "                         'SDB': 'bathroom', 'ETAGES': 'floors','ALLEE': 'driveway',\n",
        "                         'SALLEJEU':'game_room', 'CAVE': 'cellar', \n",
        "                         'GAZ': 'gas', 'AIR':'air', 'GARAGES': 'garage', 'SITUATION': 'situation'})\n",
        "\n",
        "house_data.describe()"
      ]
    },
    {
      "cell_type": "markdown",
      "metadata": {
        "id": "28rtzOmbhkYl"
      },
      "source": [
        "**Null Check**"
      ]
    },
    {
      "cell_type": "code",
      "execution_count": 192,
      "metadata": {
        "colab": {
          "base_uri": "https://localhost:8080/"
        },
        "id": "xEi7G7f1hj62",
        "outputId": "8ddeea79-1944-406d-b881-f816a08cfd24"
      },
      "outputs": [
        {
          "output_type": "execute_result",
          "data": {
            "text/plain": [
              "price        0\n",
              "area         0\n",
              "rooms        0\n",
              "bathroom     0\n",
              "floors       0\n",
              "driveway     0\n",
              "game_room    0\n",
              "cellar       0\n",
              "gas          0\n",
              "air          0\n",
              "garage       0\n",
              "situation    0\n",
              "dtype: int64"
            ]
          },
          "metadata": {},
          "execution_count": 192
        }
      ],
      "source": [
        "house_data.isnull().sum()"
      ]
    },
    {
      "cell_type": "markdown",
      "metadata": {
        "id": "RX_moIbfhzY1"
      },
      "source": [
        "**Check for any Qualitative Variables**"
      ]
    },
    {
      "cell_type": "code",
      "execution_count": 193,
      "metadata": {
        "colab": {
          "base_uri": "https://localhost:8080/"
        },
        "id": "Sr7kxDPOhrmA",
        "outputId": "5a2d15c4-940c-4e18-b06a-f9e5a8b0e652"
      },
      "outputs": [
        {
          "output_type": "stream",
          "name": "stdout",
          "text": [
            "<class 'pandas.core.frame.DataFrame'>\n",
            "Index: 546 entries, 0 to 545\n",
            "Data columns (total 12 columns):\n",
            " #   Column     Non-Null Count  Dtype\n",
            "---  ------     --------------  -----\n",
            " 0   price      546 non-null    int64\n",
            " 1   area       546 non-null    int64\n",
            " 2   rooms      546 non-null    int64\n",
            " 3   bathroom   546 non-null    int64\n",
            " 4   floors     546 non-null    int64\n",
            " 5   driveway   546 non-null    int64\n",
            " 6   game_room  546 non-null    int64\n",
            " 7   cellar     546 non-null    int64\n",
            " 8   gas        546 non-null    int64\n",
            " 9   air        546 non-null    int64\n",
            " 10  garage     546 non-null    int64\n",
            " 11  situation  546 non-null    int64\n",
            "dtypes: int64(12)\n",
            "memory usage: 55.5+ KB\n"
          ]
        }
      ],
      "source": [
        "house_data.info()"
      ]
    },
    {
      "cell_type": "markdown",
      "metadata": {
        "id": "JSejmqTygtMm"
      },
      "source": [
        "**Outlier Check**"
      ]
    },
    {
      "cell_type": "code",
      "execution_count": 194,
      "metadata": {
        "id": "tqpoamWDgvei",
        "colab": {
          "base_uri": "https://localhost:8080/",
          "height": 791
        },
        "outputId": "de34f3e7-ef5e-421f-f846-66b979907421"
      },
      "outputs": [
        {
          "output_type": "display_data",
          "data": {
            "text/plain": [
              "<Figure size 864x432 with 1 Axes>"
            ],
            "image/png": "[encoded data removed]"
          },
          "metadata": {}
        },
        {
          "output_type": "display_data",
          "data": {
            "text/plain": [
              "<Figure size 864x432 with 1 Axes>"
            ],
            "image/png": "[encoded data removed]"
          },
          "metadata": {}
        }
      ],
      "source": [
        "#Using z-score, beyond 3 are comsidered as outliers\n",
        "from scipy import stats\n",
        "import numpy as np\n",
        "\n",
        "#Before Outlier removal\n",
        "ax = sns.boxplot(house_data['price'])\n",
        "ax.set_title('Before Outlier removal')\n",
        "plt.show()\n",
        "z = np.abs(stats.zscore(house_data))\n",
        "threshold = 3\n",
        "house_new_data = house_data[(z < threshold).all(axis=1)]\n",
        "\n",
        "#After Outlier removal\n",
        "ax = sns.boxplot(house_new_data['price'])\n",
        "ax.set_title('After Outlier removal')\n",
        "plt.show()"
      ]
    },
    {
      "cell_type": "markdown",
      "metadata": {
        "id": "_G4fiutQieYJ"
      },
      "source": [
        "**Correlation Check**"
      ]
    },
    {
      "cell_type": "code",
      "execution_count": 195,
      "metadata": {
        "colab": {
          "base_uri": "https://localhost:8080/",
          "height": 541
        },
        "id": "MeZvpHhzh6MG",
        "outputId": "f98c4eac-d2d4-4dfb-dc40-2d02effdc4cb"
      },
      "outputs": [
        {
          "output_type": "display_data",
          "data": {
            "text/plain": [
              "<Figure size 1080x648 with 2 Axes>"
            ],
            "image/png": "[encoded data removed]"
          },
          "metadata": {}
        }
      ],
      "source": [
        "f, ax = plt.subplots(figsize=(15, 9))\n",
        "ax = sns.heatmap(house_new_data.corr(), annot=True, cmap=\"YlGnBu\")"
      ]
    },
    {
      "cell_type": "markdown",
      "source": [
        "**Dropping Duplicates**"
      ],
      "metadata": {
        "id": "Zs0EXeXSDly2"
      }
    },
    {
      "cell_type": "code",
      "execution_count": 196,
      "metadata": {
        "id": "P5sqWrQSi5G0"
      },
      "outputs": [],
      "source": [
        "#Dropping gas feature and correlation is coming NaN\n",
        "house_new_data.drop(columns='gas', inplace=True)\n",
        "house_new_data.drop_duplicates(keep='first', inplace=True)"
      ]
    },
    {
      "cell_type": "markdown",
      "metadata": {
        "id": "SFy3DbTRk0Ld"
      },
      "source": [
        "**Nature of Relation and Relationship** "
      ]
    },
    {
      "cell_type": "code",
      "execution_count": 197,
      "metadata": {
        "colab": {
          "base_uri": "https://localhost:8080/",
          "height": 770
        },
        "id": "_t8DgUiigrJW",
        "outputId": "8fd3f655-33e2-4504-d483-2ebdb43796e3"
      },
      "outputs": [
        {
          "output_type": "display_data",
          "data": {
            "text/plain": [
              "<Figure size 864x432 with 1 Axes>"
            ],
            "image/png": "[encoded data removed]"
          },
          "metadata": {}
        },
        {
          "output_type": "display_data",
          "data": {
            "text/plain": [
              "<Figure size 864x432 with 1 Axes>"
            ],
            "image/png": "[encoded data removed]"
          },
          "metadata": {}
        }
      ],
      "source": [
        "import warnings\n",
        "warnings.filterwarnings('ignore')\n",
        "sns.distplot(house_new_data['price'])\n",
        "plt.show()\n",
        "sns.distplot(house_new_data['area'])\n",
        "plt.show()"
      ]
    },
    {
      "cell_type": "code",
      "execution_count": 198,
      "metadata": {
        "colab": {
          "base_uri": "https://localhost:8080/",
          "height": 388
        },
        "id": "SDLKE0TtghtI",
        "outputId": "eb33e53a-a455-4d85-b0cd-30d513b84f4d"
      },
      "outputs": [
        {
          "output_type": "display_data",
          "data": {
            "text/plain": [
              "<Figure size 864x432 with 1 Axes>"
            ],
            "image/png": "[encoded data removed]"
          },
          "metadata": {}
        }
      ],
      "source": [
        "# Let's see ig we have a linear relation between price and area\n",
        "#sns.palettes(house_data['area'], house_data['price'], palette = 'viridis')\n",
        "plt.scatter(house_new_data['area'], house_new_data['price'])\n",
        "plt.xlabel(\"area\")\n",
        "plt.ylabel(\"price\")\n",
        "plt.show()\n"
      ]
    },
    {
      "cell_type": "markdown",
      "metadata": {
        "id": "V45Xf4UPjlf5"
      },
      "source": [
        "**Standarising Quantiative Variables(Features not target)**"
      ]
    },
    {
      "cell_type": "code",
      "execution_count": 199,
      "metadata": {
        "colab": {
          "base_uri": "https://localhost:8080/",
          "height": 206
        },
        "id": "PAlfSvc9jJe8",
        "outputId": "cd9b592b-976b-4120-e8b3-3b07c9629cc4"
      },
      "outputs": [
        {
          "output_type": "execute_result",
          "data": {
            "text/plain": [
              "   price      area     rooms  bathroom    floors  driveway  game_room  \\\n",
              "0  42000  0.431479  0.114919 -0.559605  0.237484  0.407293  -0.469094   \n",
              "1  38500 -0.527748 -1.318693 -0.559605 -0.901982  0.407293  -0.469094   \n",
              "2  49500 -1.015139  0.114919 -0.559605 -0.901982  0.407293  -0.469094   \n",
              "3  60500  0.846280  0.114919 -0.559605  0.237484  0.407293   2.131770   \n",
              "4  61000  0.695915 -1.318693 -0.559605 -0.901982  0.407293  -0.469094   \n",
              "\n",
              "     cellar       air    garage  situation  \n",
              "0  1.366681 -0.696505  0.416596  -0.556517  \n",
              "1 -0.731700 -0.696505 -0.771297  -0.556517  \n",
              "2 -0.731700 -0.696505 -0.771297  -0.556517  \n",
              "3 -0.731700 -0.696505 -0.771297  -0.556517  \n",
              "4 -0.731700 -0.696505 -0.771297  -0.556517  "
            ],
            "text/html": [
              "\n",
              "  <div id=\"df-77a86a3f-aaef-4016-a055-1f1973cf3904\">\n",
              "    <div class=\"colab-df-container\">\n",
              "      <div>\n",
              "<style scoped>\n",
              "    .dataframe tbody tr th:only-of-type {\n",
              "        vertical-align: middle;\n",
              "    }\n",
              "\n",
              "    .dataframe tbody tr th {\n",
              "        vertical-align: top;\n",
              "    }\n",
              "\n",
              "    .dataframe thead th {\n",
              "        text-align: right;\n",
              "    }\n",
              "</style>\n",
              "<table border=\"1\" class=\"dataframe\">\n",
              "  <thead>\n",
              "    <tr style=\"text-align: right;\">\n",
              "      <th></th>\n",
              "      <th>price</th>\n",
              "      <th>area</th>\n",
              "      <th>rooms</th>\n",
              "      <th>bathroom</th>\n",
              "      <th>floors</th>\n",
              "      <th>driveway</th>\n",
              "      <th>game_room</th>\n",
              "      <th>cellar</th>\n",
              "      <th>air</th>\n",
              "      <th>garage</th>\n",
              "      <th>situation</th>\n",
              "    </tr>\n",
              "  </thead>\n",
              "  <tbody>\n",
              "    <tr>\n",
              "      <th>0</th>\n",
              "      <td>42000</td>\n",
              "      <td>0.431479</td>\n",
              "      <td>0.114919</td>\n",
              "      <td>-0.559605</td>\n",
              "      <td>0.237484</td>\n",
              "      <td>0.407293</td>\n",
              "      <td>-0.469094</td>\n",
              "      <td>1.366681</td>\n",
              "      <td>-0.696505</td>\n",
              "      <td>0.416596</td>\n",
              "      <td>-0.556517</td>\n",
              "    </tr>\n",
              "    <tr>\n",
              "      <th>1</th>\n",
              "      <td>38500</td>\n",
              "      <td>-0.527748</td>\n",
              "      <td>-1.318693</td>\n",
              "      <td>-0.559605</td>\n",
              "      <td>-0.901982</td>\n",
              "      <td>0.407293</td>\n",
              "      <td>-0.469094</td>\n",
              "      <td>-0.731700</td>\n",
              "      <td>-0.696505</td>\n",
              "      <td>-0.771297</td>\n",
              "      <td>-0.556517</td>\n",
              "    </tr>\n",
              "    <tr>\n",
              "      <th>2</th>\n",
              "      <td>49500</td>\n",
              "      <td>-1.015139</td>\n",
              "      <td>0.114919</td>\n",
              "      <td>-0.559605</td>\n",
              "      <td>-0.901982</td>\n",
              "      <td>0.407293</td>\n",
              "      <td>-0.469094</td>\n",
              "      <td>-0.731700</td>\n",
              "      <td>-0.696505</td>\n",
              "      <td>-0.771297</td>\n",
              "      <td>-0.556517</td>\n",
              "    </tr>\n",
              "    <tr>\n",
              "      <th>3</th>\n",
              "      <td>60500</td>\n",
              "      <td>0.846280</td>\n",
              "      <td>0.114919</td>\n",
              "      <td>-0.559605</td>\n",
              "      <td>0.237484</td>\n",
              "      <td>0.407293</td>\n",
              "      <td>2.131770</td>\n",
              "      <td>-0.731700</td>\n",
              "      <td>-0.696505</td>\n",
              "      <td>-0.771297</td>\n",
              "      <td>-0.556517</td>\n",
              "    </tr>\n",
              "    <tr>\n",
              "      <th>4</th>\n",
              "      <td>61000</td>\n",
              "      <td>0.695915</td>\n",
              "      <td>-1.318693</td>\n",
              "      <td>-0.559605</td>\n",
              "      <td>-0.901982</td>\n",
              "      <td>0.407293</td>\n",
              "      <td>-0.469094</td>\n",
              "      <td>-0.731700</td>\n",
              "      <td>-0.696505</td>\n",
              "      <td>-0.771297</td>\n",
              "      <td>-0.556517</td>\n",
              "    </tr>\n",
              "  </tbody>\n",
              "</table>\n",
              "</div>\n",
              "      <button class=\"colab-df-convert\" onclick=\"convertToInteractive('df-77a86a3f-aaef-4016-a055-1f1973cf3904')\"\n",
              "              title=\"Convert this dataframe to an interactive table.\"\n",
              "              style=\"display:none;\">\n",
              "        \n",
              "  <svg xmlns=\"http://www.w3.org/2000/svg\" height=\"24px\"viewBox=\"0 0 24 24\"\n",
              "       width=\"24px\">\n",
              "    <path d=\"M0 0h24v24H0V0z\" fill=\"none\"/>\n",
              "    <path d=\"M18.56 5.44l.94 2.06.94-2.06 2.06-.94-2.06-.94-.94-2.06-.94 2.06-2.06.94zm-11 1L8.5 8.5l.94-2.06 2.06-.94-2.06-.94L8.5 2.5l-.94 2.06-2.06.94zm10 10l.94 2.06.94-2.06 2.06-.94-2.06-.94-.94-2.06-.94 2.06-2.06.94z\"/><path d=\"M17.41 7.96l-1.37-1.37c-.4-.4-.92-.59-1.43-.59-.52 0-1.04.2-1.43.59L10.3 9.45l-7.72 7.72c-.78.78-.78 2.05 0 2.83L4 21.41c.39.39.9.59 1.41.59.51 0 1.02-.2 1.41-.59l7.78-7.78 2.81-2.81c.8-.78.8-2.07 0-2.86zM5.41 20L4 18.59l7.72-7.72 1.47 1.35L5.41 20z\"/>\n",
              "  </svg>\n",
              "      </button>\n",
              "      \n",
              "  <style>\n",
              "    .colab-df-container {\n",
              "      display:flex;\n",
              "      flex-wrap:wrap;\n",
              "      gap: 12px;\n",
              "    }\n",
              "\n",
              "    .colab-df-convert {\n",
              "      background-color: #E8F0FE;\n",
              "      border: none;\n",
              "      border-radius: 50%;\n",
              "      cursor: pointer;\n",
              "      display: none;\n",
              "      fill: #1967D2;\n",
              "      height: 32px;\n",
              "      padding: 0 0 0 0;\n",
              "      width: 32px;\n",
              "    }\n",
              "\n",
              "    .colab-df-convert:hover {\n",
              "      background-color: #E2EBFA;\n",
              "      box-shadow: 0px 1px 2px rgba(60, 64, 67, 0.3), 0px 1px 3px 1px rgba(60, 64, 67, 0.15);\n",
              "      fill: #174EA6;\n",
              "    }\n",
              "\n",
              "    [theme=dark] .colab-df-convert {\n",
              "      background-color: #3B4455;\n",
              "      fill: #D2E3FC;\n",
              "    }\n",
              "\n",
              "    [theme=dark] .colab-df-convert:hover {\n",
              "      background-color: #434B5C;\n",
              "      box-shadow: 0px 1px 3px 1px rgba(0, 0, 0, 0.15);\n",
              "      filter: drop-shadow(0px 1px 2px rgba(0, 0, 0, 0.3));\n",
              "      fill: #FFFFFF;\n",
              "    }\n",
              "  </style>\n",
              "\n",
              "      <script>\n",
              "        const buttonEl =\n",
              "          document.querySelector('#df-77a86a3f-aaef-4016-a055-1f1973cf3904 button.colab-df-convert');\n",
              "        buttonEl.style.display =\n",
              "          google.colab.kernel.accessAllowed ? 'block' : 'none';\n",
              "\n",
              "        async function convertToInteractive(key) {\n",
              "          const element = document.querySelector('#df-77a86a3f-aaef-4016-a055-1f1973cf3904');\n",
              "          const dataTable =\n",
              "            await google.colab.kernel.invokeFunction('convertToInteractive',\n",
              "                                                     [key], {});\n",
              "          if (!dataTable) return;\n",
              "\n",
              "          const docLinkHtml = 'Like what you see? Visit the ' +\n",
              "            '<a target=\"_blank\" href=https://colab.research.google.com/notebooks/data_table.ipynb>data table notebook</a>'\n",
              "            + ' to learn more about interactive tables.';\n",
              "          element.innerHTML = '';\n",
              "          dataTable['output_type'] = 'display_data';\n",
              "          await google.colab.output.renderOutput(dataTable, element);\n",
              "          const docLink = document.createElement('div');\n",
              "          docLink.innerHTML = docLinkHtml;\n",
              "          element.appendChild(docLink);\n",
              "        }\n",
              "      </script>\n",
              "    </div>\n",
              "  </div>\n",
              "  "
            ]
          },
          "metadata": {},
          "execution_count": 199
        }
      ],
      "source": [
        "from sklearn.preprocessing import StandardScaler\n",
        "\n",
        "# Copying original dataframe\n",
        "house_data_record = house_new_data.copy()\n",
        "\n",
        "#Applying Standardisation on Features\n",
        "scaler = StandardScaler()\n",
        "house_data_record[house_data_record.columns[1:]] = scaler.fit_transform(house_data_record[house_data_record.columns[1:]])\n",
        "\n",
        "house_data_record.head()"
      ]
    },
    {
      "cell_type": "code",
      "execution_count": 200,
      "metadata": {
        "colab": {
          "base_uri": "https://localhost:8080/"
        },
        "id": "xbK0HFvcg_j3",
        "outputId": "c60c6ba8-241f-4745-ada9-5bd4c98d5698"
      },
      "outputs": [
        {
          "output_type": "stream",
          "name": "stdout",
          "text": [
            "(499, 10)\n",
            "(499,)\n"
          ]
        }
      ],
      "source": [
        "# Import the libraries\n",
        "from sklearn.linear_model import LinearRegression\n",
        "from sklearn.model_selection import train_test_split\n",
        "#Before Standard Scaler\n",
        "x_before = house_new_data.drop(columns='price')\n",
        "y_before = house_new_data['price']\n",
        "\n",
        "#After Standard Scaler\n",
        "x_after = house_data_record.drop(columns='price')\n",
        "y_after = house_data_record['price']\n",
        "\n",
        "print(x_after.shape)\n",
        "print(y_after.shape)"
      ]
    },
    {
      "cell_type": "code",
      "execution_count": 201,
      "metadata": {
        "id": "47VYpVNPpoPP"
      },
      "outputs": [],
      "source": [
        "X_train, X_test, y_train, y_test = train_test_split(x_after, y_after, test_size=0.2, random_state=101)"
      ]
    },
    {
      "cell_type": "code",
      "execution_count": 202,
      "metadata": {
        "id": "VK9SjmCFpQvQ"
      },
      "outputs": [],
      "source": [
        "# We now instatiate a Linear Regression object\n",
        "#lm = LinearRegression()\n",
        "\n",
        "#regression_model = lm.fit(X_train, y_train)\n",
        "#print(lm.score(X_test, y_test) * 100)\n",
        "\n",
        "#predictions = lm.predict(X_test)\n"
      ]
    },
    {
      "cell_type": "code",
      "execution_count": 203,
      "metadata": {
        "colab": {
          "base_uri": "https://localhost:8080/",
          "height": 644
        },
        "id": "4W3HHeaarEFs",
        "outputId": "46054e68-5522-44b9-9a18-3260ffc2e3f2"
      },
      "outputs": [
        {
          "output_type": "execute_result",
          "data": {
            "text/plain": [
              "<class 'statsmodels.iolib.summary.Summary'>\n",
              "\"\"\"\n",
              "                            OLS Regression Results                            \n",
              "==============================================================================\n",
              "Dep. Variable:                  price   R-squared:                       0.818\n",
              "Model:                            OLS   Adj. R-squared:                  0.798\n",
              "Method:                 Least Squares   F-statistic:                     40.04\n",
              "Date:                Sat, 16 Apr 2022   Prob (F-statistic):           1.06e-28\n",
              "Time:                        18:14:38   Log-Likelihood:                -1069.9\n",
              "No. Observations:                 100   AIC:                             2162.\n",
              "Df Residuals:                      89   BIC:                             2190.\n",
              "Df Model:                          10                                         \n",
              "Covariance Type:            nonrobust                                         \n",
              "==============================================================================\n",
              "                 coef    std err          t      P>|t|      [0.025      0.975]\n",
              "------------------------------------------------------------------------------\n",
              "const       6.855e+04   1182.712     57.963      0.000    6.62e+04    7.09e+04\n",
              "area        7611.6937   1313.513      5.795      0.000    5001.771    1.02e+04\n",
              "rooms       3287.6251   1434.554      2.292      0.024     437.196    6138.054\n",
              "bathroom    4709.0252   1319.072      3.570      0.001    2088.057    7329.993\n",
              "floors      4113.2355   1391.994      2.955      0.004    1347.373    6879.098\n",
              "driveway    3149.2883   1128.406      2.791      0.006     907.169    5391.408\n",
              "game_room   5456.3310   1600.743      3.409      0.001    2275.689    8636.973\n",
              "cellar      3570.9039   1529.387      2.335      0.022     532.045    6609.763\n",
              "air         7838.1340   1327.950      5.902      0.000    5199.525    1.05e+04\n",
              "garage       463.5145   1426.099      0.325      0.746   -2370.113    3297.142\n",
              "situation   2000.2144   1390.202      1.439      0.154    -762.087    4762.516\n",
              "==============================================================================\n",
              "Omnibus:                        0.791   Durbin-Watson:                   2.063\n",
              "Prob(Omnibus):                  0.673   Jarque-Bera (JB):                0.539\n",
              "Skew:                           0.177   Prob(JB):                        0.764\n",
              "Kurtosis:                       3.061   Cond. No.                         3.04\n",
              "==============================================================================\n",
              "\n",
              "Warnings:\n",
              "[1] Standard Errors assume that the covariance matrix of the errors is correctly specified.\n",
              "\"\"\""
            ],
            "text/html": [
              "<table class=\"simpletable\">\n",
              "<caption>OLS Regression Results</caption>\n",
              "<tr>\n",
              "  <th>Dep. Variable:</th>          <td>price</td>      <th>  R-squared:         </th> <td>   0.818</td>\n",
              "</tr>\n",
              "<tr>\n",
              "  <th>Model:</th>                   <td>OLS</td>       <th>  Adj. R-squared:    </th> <td>   0.798</td>\n",
              "</tr>\n",
              "<tr>\n",
              "  <th>Method:</th>             <td>Least Squares</td>  <th>  F-statistic:       </th> <td>   40.04</td>\n",
              "</tr>\n",
              "<tr>\n",
              "  <th>Date:</th>             <td>Sat, 16 Apr 2022</td> <th>  Prob (F-statistic):</th> <td>1.06e-28</td>\n",
              "</tr>\n",
              "<tr>\n",
              "  <th>Time:</th>                 <td>18:14:38</td>     <th>  Log-Likelihood:    </th> <td> -1069.9</td>\n",
              "</tr>\n",
              "<tr>\n",
              "  <th>No. Observations:</th>      <td>   100</td>      <th>  AIC:               </th> <td>   2162.</td>\n",
              "</tr>\n",
              "<tr>\n",
              "  <th>Df Residuals:</th>          <td>    89</td>      <th>  BIC:               </th> <td>   2190.</td>\n",
              "</tr>\n",
              "<tr>\n",
              "  <th>Df Model:</th>              <td>    10</td>      <th>                     </th>     <td> </td>   \n",
              "</tr>\n",
              "<tr>\n",
              "  <th>Covariance Type:</th>      <td>nonrobust</td>    <th>                     </th>     <td> </td>   \n",
              "</tr>\n",
              "</table>\n",
              "<table class=\"simpletable\">\n",
              "<tr>\n",
              "      <td></td>         <th>coef</th>     <th>std err</th>      <th>t</th>      <th>P>|t|</th>  <th>[0.025</th>    <th>0.975]</th>  \n",
              "</tr>\n",
              "<tr>\n",
              "  <th>const</th>     <td> 6.855e+04</td> <td> 1182.712</td> <td>   57.963</td> <td> 0.000</td> <td> 6.62e+04</td> <td> 7.09e+04</td>\n",
              "</tr>\n",
              "<tr>\n",
              "  <th>area</th>      <td> 7611.6937</td> <td> 1313.513</td> <td>    5.795</td> <td> 0.000</td> <td> 5001.771</td> <td> 1.02e+04</td>\n",
              "</tr>\n",
              "<tr>\n",
              "  <th>rooms</th>     <td> 3287.6251</td> <td> 1434.554</td> <td>    2.292</td> <td> 0.024</td> <td>  437.196</td> <td> 6138.054</td>\n",
              "</tr>\n",
              "<tr>\n",
              "  <th>bathroom</th>  <td> 4709.0252</td> <td> 1319.072</td> <td>    3.570</td> <td> 0.001</td> <td> 2088.057</td> <td> 7329.993</td>\n",
              "</tr>\n",
              "<tr>\n",
              "  <th>floors</th>    <td> 4113.2355</td> <td> 1391.994</td> <td>    2.955</td> <td> 0.004</td> <td> 1347.373</td> <td> 6879.098</td>\n",
              "</tr>\n",
              "<tr>\n",
              "  <th>driveway</th>  <td> 3149.2883</td> <td> 1128.406</td> <td>    2.791</td> <td> 0.006</td> <td>  907.169</td> <td> 5391.408</td>\n",
              "</tr>\n",
              "<tr>\n",
              "  <th>game_room</th> <td> 5456.3310</td> <td> 1600.743</td> <td>    3.409</td> <td> 0.001</td> <td> 2275.689</td> <td> 8636.973</td>\n",
              "</tr>\n",
              "<tr>\n",
              "  <th>cellar</th>    <td> 3570.9039</td> <td> 1529.387</td> <td>    2.335</td> <td> 0.022</td> <td>  532.045</td> <td> 6609.763</td>\n",
              "</tr>\n",
              "<tr>\n",
              "  <th>air</th>       <td> 7838.1340</td> <td> 1327.950</td> <td>    5.902</td> <td> 0.000</td> <td> 5199.525</td> <td> 1.05e+04</td>\n",
              "</tr>\n",
              "<tr>\n",
              "  <th>garage</th>    <td>  463.5145</td> <td> 1426.099</td> <td>    0.325</td> <td> 0.746</td> <td>-2370.113</td> <td> 3297.142</td>\n",
              "</tr>\n",
              "<tr>\n",
              "  <th>situation</th> <td> 2000.2144</td> <td> 1390.202</td> <td>    1.439</td> <td> 0.154</td> <td> -762.087</td> <td> 4762.516</td>\n",
              "</tr>\n",
              "</table>\n",
              "<table class=\"simpletable\">\n",
              "<tr>\n",
              "  <th>Omnibus:</th>       <td> 0.791</td> <th>  Durbin-Watson:     </th> <td>   2.063</td>\n",
              "</tr>\n",
              "<tr>\n",
              "  <th>Prob(Omnibus):</th> <td> 0.673</td> <th>  Jarque-Bera (JB):  </th> <td>   0.539</td>\n",
              "</tr>\n",
              "<tr>\n",
              "  <th>Skew:</th>          <td> 0.177</td> <th>  Prob(JB):          </th> <td>   0.764</td>\n",
              "</tr>\n",
              "<tr>\n",
              "  <th>Kurtosis:</th>      <td> 3.061</td> <th>  Cond. No.          </th> <td>    3.04</td>\n",
              "</tr>\n",
              "</table><br/><br/>Warnings:<br/>[1] Standard Errors assume that the covariance matrix of the errors is correctly specified."
            ]
          },
          "metadata": {},
          "execution_count": 203
        }
      ],
      "source": [
        "import statsmodels.api as sm\n",
        "# Unlike sklearn that adds an intercept to our data for the best fit, statsmodel doesn't. We need to add it ourselves\n",
        "# Remember, we want to predict the price based off our features.\n",
        "# X represents our predictor variables, and y our predicted variable.\n",
        "# We need now to add manually the intercepts\n",
        "X_endog = sm.add_constant(X_test)\n",
        "res = sm.OLS(y_test, X_endog)\n",
        "model = res.fit()\n",
        "res.fit().summary()"
      ]
    },
    {
      "cell_type": "code",
      "source": [
        "# Evaluation metrics\n",
        "# Mean Absolute Error (MAE)\n",
        "# Mean Squared Error (MSE)\n",
        "# Root Mean Squared Error(RMSE)\n",
        "import numpy as np\n",
        "from sklearn import metrics\n",
        "\n",
        "#print('MAE :', metrics.mean_absolute_error(y_test, predictions))\n",
        "#print('MSE :', metrics.mean_squared_error(y_test, predictions))\n",
        "#print('RMSE :', np.sqrt(metrics.mean_squared_error(y_test, predictions)))\n",
        "\n",
        "MAE : 10248.782807401953\n",
        "MSE : 188311345.17713058\n",
        "RMSE : 13722.658094448414"
      ],
      "metadata": {
        "id": "4ayl4oKjeibG"
      },
      "execution_count": 204,
      "outputs": []
    },
    {
      "cell_type": "code",
      "source": [
        "predictions = model.predict(X_endog)\n",
        "predictions.head()"
      ],
      "metadata": {
        "colab": {
          "base_uri": "https://localhost:8080/"
        },
        "id": "Z9QybsaWIWKv",
        "outputId": "16533245-6922-4063-899b-254ca2e7914c"
      },
      "execution_count": 205,
      "outputs": [
        {
          "output_type": "execute_result",
          "data": {
            "text/plain": [
              "270     69558.876173\n",
              "538     94752.952447\n",
              "360    122116.123437\n",
              "496     57216.021930\n",
              "170     49069.238772\n",
              "dtype: float64"
            ]
          },
          "metadata": {},
          "execution_count": 205
        }
      ]
    }
  ],
  "metadata": {
    "colab": {
      "name": "Regression_Assignment.ipynb",
      "provenance": [],
      "collapsed_sections": []
    },
    "kernelspec": {
      "display_name": "Python 3",
      "name": "python3"
    },
    "language_info": {
      "name": "python"
    }
  },
  "nbformat": 4,
  "nbformat_minor": 0
}